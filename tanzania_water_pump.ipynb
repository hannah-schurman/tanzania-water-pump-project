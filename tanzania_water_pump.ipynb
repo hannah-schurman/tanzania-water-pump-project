{
 "cells": [
  {
   "cell_type": "markdown",
   "id": "e41987fd",
   "metadata": {},
   "source": [
    "# Tanzania Water Pump Prediction Modeling"
   ]
  },
  {
   "cell_type": "markdown",
   "id": "63c0543a",
   "metadata": {},
   "source": [
    "<img src=\"images/Drinking-Water.jpeg\" width=50% align=\"left\"/>\n",
    "<img src='images/hand_pump_diagram.png' width=30% alight='right'/>"
   ]
  },
  {
   "cell_type": "markdown",
   "id": "ec14b535",
   "metadata": {},
   "source": [
    "# 1. Overview\n",
    "---\n",
    "4 million people in Tanzania lack access to safe water. Access to clean water is a fundamental human necessity and not having that access is a serious health risk. Our initial dataset shows that almost 40% of water pumps throughout regions of Tanzania are not functional, and an additional 7% need repairs.\n",
    "\n",
    "In this project, I aim to create a model that will most accurately predict which water pumps are functional, which need repairs, and which need to be replaced completely. To make these predictions, I will start with a baseline machine learning model, then testing and fine-tuning more efficiant models and optimizing hyperparameters. \n",
    "\n",
    "My analysis began with a simple Logistic Regression Model, then used a Random Forest Model with parameters tuned, and then the final and most efficient analysis was an XGBoost Model. My final model was able to produce a score of __ % taking into consideration the decision to prioritize false negatives. "
   ]
  },
  {
   "cell_type": "markdown",
   "id": "cd04d6e8",
   "metadata": {},
   "source": [
    "# 2. Business Problem\n",
    "---\n",
    "Using data gathered from Taarifa and the Tanzanian Ministry of Water, I have been tasked with analyzing the different features corresponding to functional and non functional water pumps with the goal of creating a model that can predict if a pump needs to be replaced. The stakeholder for this project is the World Health Organization and the data was provided by the Taarifa waterpoints dashboard. \n",
    "\n",
    "Through my analysis it is important not to just create an accurate prediction model, but to assess our criteria for what an accurate model will look like. Because we are dealing with human health and life, it is important that we use a conservative model. We want to prioritize replacement over not replacement because our business cost is peoples well being. Therefore, for any false predictions our model makes, we want to prioritize False \"not functional\" (False Negative) over False \"functional\" (False Positive). This is because the risks are higher for not replacing a pump that needs replacing, over replacing a pump that didn't actually need to be replaced. This is so we can ensure that clean, potable water is available to communities across Tanzania.\n",
    "\n",
    "This analysis will be used to implement an actionable plan for fixing and replacing water pumps throughout Tanzania."
   ]
  },
  {
   "cell_type": "markdown",
   "id": "4961e3a9",
   "metadata": {},
   "source": [
    "# 3. Data Understanding\n",
    "--- \n",
    "This projects datasets came from the Taarifa: an open source platform for the crowd sourced reporting and triaging of infrastructure related issues.\n",
    "\n",
    "These datasets contain information about 59,400 water pumps throughout Tanzania. The first dataset contains ID numbers and feature information about each water pump. The second dataset contained ID numbers and pump condition for each water pump\n",
    "\n",
    "**Pump Features:**<br>\n",
    "```amount_tsh``` - Total static head (amount water available to waterpoint)<br>\n",
    "```date_recorded``` - The date the row was entered<br>\n",
    "```funder``` - Who funded the well<br>\n",
    "```gps_height``` - Altitude of the well<br>\n",
    "```installer``` - Organization that installed the well<br>\n",
    "```longitude``` - GPS coordinate<br>\n",
    "```latitude``` - GPS coordinate<br>\n",
    "```wpt_name``` - Name of the waterpoint if there is one<br>\n",
    "```num_private``` -<br>\n",
    "```basin``` - Geographic water basin<br>\n",
    "```subvillage``` - Geographic location<br>\n",
    "```region``` - Geographic location<br>\n",
    "```region_code``` - Geographic location (coded)<br>\n",
    "```district_code``` - Geographic location (coded)<br>\n",
    "```lga``` - Geographic location<br>\n",
    "```ward``` - Geographic location<br>\n",
    "```population``` - Population around the well<br>\n",
    "```public_meeting``` - True/False<br>\n",
    "```recorded_by``` - Group entering this row of data<br>\n",
    "```scheme_management``` - Who operates the waterpoint<br>\n",
    "```scheme_name``` - Who operates the waterpoint<br>\n",
    "```permit``` - If the waterpoint is permitted<br>\n",
    "```construction_year``` - Year the waterpoint was constructed<br>\n",
    "```extraction_type``` - The kind of extraction the waterpoint uses<br>\n",
    "```extraction_type_group``` - The kind of extraction the waterpoint uses<br>\n",
    "```extraction_type_class``` - The kind of extraction the waterpoint uses<br>\n",
    "```management``` - How the waterpoint is managed<br>\n",
    "```management_group``` - How the waterpoint is managed<br>\n",
    "```payment``` - What the water costs<br>\n",
    "```payment_type``` - What the water costs<br>\n",
    "```water_quality``` - The quality of the water<br>\n",
    "```quality_group``` - The quality of the water<br>\n",
    "```quantity``` - The quantity of water<br>\n",
    "```quantity_group``` - The quantity of water<br>\n",
    "```source``` - The source of the water<br>\n",
    "```source_type``` - The source of the water<br>\n",
    "```source_class``` - The source of the water<br>\n",
    "```waterpoint_type``` - The kind of waterpoint<br>\n",
    "```waterpoint_type_group``` - The kind of waterpoint<br>\n",
    "\n",
    "\n",
    "**Pump Conditions:**<br>\n",
    "```functional``` - the waterpoint is operational and there are no repairs needed<br>\n",
    "```functional needs repair``` - the waterpoint is operational, but needs repairs<br>\n",
    "```non functional``` - the waterpoint is not operational"
   ]
  },
  {
   "cell_type": "markdown",
   "id": "0e73627f",
   "metadata": {},
   "source": [
    "# 4. Data Preparation"
   ]
  },
  {
   "cell_type": "markdown",
   "id": "97c949cb",
   "metadata": {},
   "source": [
    "### Import Packages"
   ]
  },
  {
   "cell_type": "code",
   "execution_count": 879,
   "id": "6f2e310d",
   "metadata": {},
   "outputs": [],
   "source": [
    "import pandas as pd\n",
    "import numpy as np\n",
    "import matplotlib.pyplot as plt\n",
    "%matplotlib inline\n",
    "import seaborn as sns\n",
    "\n",
    "from yellowbrick.classifier import ROCAUC, ClassificationReport\n",
    "\n",
    "from sklearn.preprocessing import OneHotEncoder, StandardScaler\n",
    "from sklearn.model_selection import train_test_split, GridSearchCV\n",
    "from sklearn.linear_model import LogisticRegression\n",
    "from sklearn.metrics import plot_confusion_matrix, accuracy_score, recall_score, f1_score, precision_score,\\\n",
    "    classification_report, roc_auc_score\n",
    "from sklearn.pipeline import Pipeline\n",
    "from sklearn.ensemble import RandomForestClassifier\n",
    "from sklearn.compose import ColumnTransformer\n",
    "\n",
    "\n",
    "from imblearn.over_sampling import SMOTE\n",
    "from imblearn.pipeline import Pipeline as Pipe\n",
    "\n",
    "from xgboost import XGBClassifier"
   ]
  },
  {
   "cell_type": "markdown",
   "id": "e6c2f317",
   "metadata": {},
   "source": [
    "#### Read in CSV datasets"
   ]
  },
  {
   "cell_type": "code",
   "execution_count": 880,
   "id": "2f6bc738",
   "metadata": {},
   "outputs": [],
   "source": [
    "pump_vals = pd.read_csv('data/training_values.csv')\n",
    "pump_labels = pd.read_csv('data/training_labels.csv')"
   ]
  },
  {
   "cell_type": "code",
   "execution_count": 881,
   "id": "910c4fdd",
   "metadata": {
    "scrolled": true
   },
   "outputs": [
    {
     "data": {
      "text/html": [
       "<div>\n",
       "<style scoped>\n",
       "    .dataframe tbody tr th:only-of-type {\n",
       "        vertical-align: middle;\n",
       "    }\n",
       "\n",
       "    .dataframe tbody tr th {\n",
       "        vertical-align: top;\n",
       "    }\n",
       "\n",
       "    .dataframe thead th {\n",
       "        text-align: right;\n",
       "    }\n",
       "</style>\n",
       "<table border=\"1\" class=\"dataframe\">\n",
       "  <thead>\n",
       "    <tr style=\"text-align: right;\">\n",
       "      <th></th>\n",
       "      <th>id</th>\n",
       "      <th>amount_tsh</th>\n",
       "      <th>date_recorded</th>\n",
       "      <th>funder</th>\n",
       "      <th>gps_height</th>\n",
       "      <th>installer</th>\n",
       "      <th>longitude</th>\n",
       "      <th>latitude</th>\n",
       "      <th>wpt_name</th>\n",
       "      <th>num_private</th>\n",
       "      <th>...</th>\n",
       "      <th>payment_type</th>\n",
       "      <th>water_quality</th>\n",
       "      <th>quality_group</th>\n",
       "      <th>quantity</th>\n",
       "      <th>quantity_group</th>\n",
       "      <th>source</th>\n",
       "      <th>source_type</th>\n",
       "      <th>source_class</th>\n",
       "      <th>waterpoint_type</th>\n",
       "      <th>waterpoint_type_group</th>\n",
       "    </tr>\n",
       "  </thead>\n",
       "  <tbody>\n",
       "    <tr>\n",
       "      <th>0</th>\n",
       "      <td>69572</td>\n",
       "      <td>6000.0</td>\n",
       "      <td>2011-03-14</td>\n",
       "      <td>Roman</td>\n",
       "      <td>1390</td>\n",
       "      <td>Roman</td>\n",
       "      <td>34.938093</td>\n",
       "      <td>-9.856322</td>\n",
       "      <td>none</td>\n",
       "      <td>0</td>\n",
       "      <td>...</td>\n",
       "      <td>annually</td>\n",
       "      <td>soft</td>\n",
       "      <td>good</td>\n",
       "      <td>enough</td>\n",
       "      <td>enough</td>\n",
       "      <td>spring</td>\n",
       "      <td>spring</td>\n",
       "      <td>groundwater</td>\n",
       "      <td>communal standpipe</td>\n",
       "      <td>communal standpipe</td>\n",
       "    </tr>\n",
       "    <tr>\n",
       "      <th>1</th>\n",
       "      <td>8776</td>\n",
       "      <td>0.0</td>\n",
       "      <td>2013-03-06</td>\n",
       "      <td>Grumeti</td>\n",
       "      <td>1399</td>\n",
       "      <td>GRUMETI</td>\n",
       "      <td>34.698766</td>\n",
       "      <td>-2.147466</td>\n",
       "      <td>Zahanati</td>\n",
       "      <td>0</td>\n",
       "      <td>...</td>\n",
       "      <td>never pay</td>\n",
       "      <td>soft</td>\n",
       "      <td>good</td>\n",
       "      <td>insufficient</td>\n",
       "      <td>insufficient</td>\n",
       "      <td>rainwater harvesting</td>\n",
       "      <td>rainwater harvesting</td>\n",
       "      <td>surface</td>\n",
       "      <td>communal standpipe</td>\n",
       "      <td>communal standpipe</td>\n",
       "    </tr>\n",
       "    <tr>\n",
       "      <th>2</th>\n",
       "      <td>34310</td>\n",
       "      <td>25.0</td>\n",
       "      <td>2013-02-25</td>\n",
       "      <td>Lottery Club</td>\n",
       "      <td>686</td>\n",
       "      <td>World vision</td>\n",
       "      <td>37.460664</td>\n",
       "      <td>-3.821329</td>\n",
       "      <td>Kwa Mahundi</td>\n",
       "      <td>0</td>\n",
       "      <td>...</td>\n",
       "      <td>per bucket</td>\n",
       "      <td>soft</td>\n",
       "      <td>good</td>\n",
       "      <td>enough</td>\n",
       "      <td>enough</td>\n",
       "      <td>dam</td>\n",
       "      <td>dam</td>\n",
       "      <td>surface</td>\n",
       "      <td>communal standpipe multiple</td>\n",
       "      <td>communal standpipe</td>\n",
       "    </tr>\n",
       "    <tr>\n",
       "      <th>3</th>\n",
       "      <td>67743</td>\n",
       "      <td>0.0</td>\n",
       "      <td>2013-01-28</td>\n",
       "      <td>Unicef</td>\n",
       "      <td>263</td>\n",
       "      <td>UNICEF</td>\n",
       "      <td>38.486161</td>\n",
       "      <td>-11.155298</td>\n",
       "      <td>Zahanati Ya Nanyumbu</td>\n",
       "      <td>0</td>\n",
       "      <td>...</td>\n",
       "      <td>never pay</td>\n",
       "      <td>soft</td>\n",
       "      <td>good</td>\n",
       "      <td>dry</td>\n",
       "      <td>dry</td>\n",
       "      <td>machine dbh</td>\n",
       "      <td>borehole</td>\n",
       "      <td>groundwater</td>\n",
       "      <td>communal standpipe multiple</td>\n",
       "      <td>communal standpipe</td>\n",
       "    </tr>\n",
       "    <tr>\n",
       "      <th>4</th>\n",
       "      <td>19728</td>\n",
       "      <td>0.0</td>\n",
       "      <td>2011-07-13</td>\n",
       "      <td>Action In A</td>\n",
       "      <td>0</td>\n",
       "      <td>Artisan</td>\n",
       "      <td>31.130847</td>\n",
       "      <td>-1.825359</td>\n",
       "      <td>Shuleni</td>\n",
       "      <td>0</td>\n",
       "      <td>...</td>\n",
       "      <td>never pay</td>\n",
       "      <td>soft</td>\n",
       "      <td>good</td>\n",
       "      <td>seasonal</td>\n",
       "      <td>seasonal</td>\n",
       "      <td>rainwater harvesting</td>\n",
       "      <td>rainwater harvesting</td>\n",
       "      <td>surface</td>\n",
       "      <td>communal standpipe</td>\n",
       "      <td>communal standpipe</td>\n",
       "    </tr>\n",
       "  </tbody>\n",
       "</table>\n",
       "<p>5 rows × 40 columns</p>\n",
       "</div>"
      ],
      "text/plain": [
       "      id  amount_tsh date_recorded        funder  gps_height     installer  \\\n",
       "0  69572      6000.0    2011-03-14         Roman        1390         Roman   \n",
       "1   8776         0.0    2013-03-06       Grumeti        1399       GRUMETI   \n",
       "2  34310        25.0    2013-02-25  Lottery Club         686  World vision   \n",
       "3  67743         0.0    2013-01-28        Unicef         263        UNICEF   \n",
       "4  19728         0.0    2011-07-13   Action In A           0       Artisan   \n",
       "\n",
       "   longitude   latitude              wpt_name  num_private  ... payment_type  \\\n",
       "0  34.938093  -9.856322                  none            0  ...     annually   \n",
       "1  34.698766  -2.147466              Zahanati            0  ...    never pay   \n",
       "2  37.460664  -3.821329           Kwa Mahundi            0  ...   per bucket   \n",
       "3  38.486161 -11.155298  Zahanati Ya Nanyumbu            0  ...    never pay   \n",
       "4  31.130847  -1.825359               Shuleni            0  ...    never pay   \n",
       "\n",
       "  water_quality quality_group      quantity  quantity_group  \\\n",
       "0          soft          good        enough          enough   \n",
       "1          soft          good  insufficient    insufficient   \n",
       "2          soft          good        enough          enough   \n",
       "3          soft          good           dry             dry   \n",
       "4          soft          good      seasonal        seasonal   \n",
       "\n",
       "                 source           source_type  source_class  \\\n",
       "0                spring                spring   groundwater   \n",
       "1  rainwater harvesting  rainwater harvesting       surface   \n",
       "2                   dam                   dam       surface   \n",
       "3           machine dbh              borehole   groundwater   \n",
       "4  rainwater harvesting  rainwater harvesting       surface   \n",
       "\n",
       "               waterpoint_type waterpoint_type_group  \n",
       "0           communal standpipe    communal standpipe  \n",
       "1           communal standpipe    communal standpipe  \n",
       "2  communal standpipe multiple    communal standpipe  \n",
       "3  communal standpipe multiple    communal standpipe  \n",
       "4           communal standpipe    communal standpipe  \n",
       "\n",
       "[5 rows x 40 columns]"
      ]
     },
     "execution_count": 881,
     "metadata": {},
     "output_type": "execute_result"
    }
   ],
   "source": [
    "pump_vals.head()"
   ]
  },
  {
   "cell_type": "code",
   "execution_count": 882,
   "id": "e025fbba",
   "metadata": {},
   "outputs": [
    {
     "data": {
      "text/plain": [
       "(59400, 40)"
      ]
     },
     "execution_count": 882,
     "metadata": {},
     "output_type": "execute_result"
    }
   ],
   "source": [
    "pump_vals.shape"
   ]
  },
  {
   "cell_type": "code",
   "execution_count": 883,
   "id": "938b18e5",
   "metadata": {
    "scrolled": true
   },
   "outputs": [
    {
     "data": {
      "text/html": [
       "<div>\n",
       "<style scoped>\n",
       "    .dataframe tbody tr th:only-of-type {\n",
       "        vertical-align: middle;\n",
       "    }\n",
       "\n",
       "    .dataframe tbody tr th {\n",
       "        vertical-align: top;\n",
       "    }\n",
       "\n",
       "    .dataframe thead th {\n",
       "        text-align: right;\n",
       "    }\n",
       "</style>\n",
       "<table border=\"1\" class=\"dataframe\">\n",
       "  <thead>\n",
       "    <tr style=\"text-align: right;\">\n",
       "      <th></th>\n",
       "      <th>id</th>\n",
       "      <th>status_group</th>\n",
       "    </tr>\n",
       "  </thead>\n",
       "  <tbody>\n",
       "    <tr>\n",
       "      <th>0</th>\n",
       "      <td>69572</td>\n",
       "      <td>functional</td>\n",
       "    </tr>\n",
       "    <tr>\n",
       "      <th>1</th>\n",
       "      <td>8776</td>\n",
       "      <td>functional</td>\n",
       "    </tr>\n",
       "    <tr>\n",
       "      <th>2</th>\n",
       "      <td>34310</td>\n",
       "      <td>functional</td>\n",
       "    </tr>\n",
       "    <tr>\n",
       "      <th>3</th>\n",
       "      <td>67743</td>\n",
       "      <td>non functional</td>\n",
       "    </tr>\n",
       "    <tr>\n",
       "      <th>4</th>\n",
       "      <td>19728</td>\n",
       "      <td>functional</td>\n",
       "    </tr>\n",
       "  </tbody>\n",
       "</table>\n",
       "</div>"
      ],
      "text/plain": [
       "      id    status_group\n",
       "0  69572      functional\n",
       "1   8776      functional\n",
       "2  34310      functional\n",
       "3  67743  non functional\n",
       "4  19728      functional"
      ]
     },
     "execution_count": 883,
     "metadata": {},
     "output_type": "execute_result"
    }
   ],
   "source": [
    "pump_labels.head()"
   ]
  },
  {
   "cell_type": "code",
   "execution_count": 884,
   "id": "aa1ae557",
   "metadata": {},
   "outputs": [
    {
     "data": {
      "text/plain": [
       "(59400, 2)"
      ]
     },
     "execution_count": 884,
     "metadata": {},
     "output_type": "execute_result"
    }
   ],
   "source": [
    "pump_labels.shape"
   ]
  },
  {
   "cell_type": "markdown",
   "id": "25adc540",
   "metadata": {},
   "source": [
    "#### Merge value and label datasets"
   ]
  },
  {
   "cell_type": "code",
   "execution_count": 885,
   "id": "90320a95",
   "metadata": {
    "scrolled": false
   },
   "outputs": [
    {
     "data": {
      "text/html": [
       "<div>\n",
       "<style scoped>\n",
       "    .dataframe tbody tr th:only-of-type {\n",
       "        vertical-align: middle;\n",
       "    }\n",
       "\n",
       "    .dataframe tbody tr th {\n",
       "        vertical-align: top;\n",
       "    }\n",
       "\n",
       "    .dataframe thead th {\n",
       "        text-align: right;\n",
       "    }\n",
       "</style>\n",
       "<table border=\"1\" class=\"dataframe\">\n",
       "  <thead>\n",
       "    <tr style=\"text-align: right;\">\n",
       "      <th></th>\n",
       "      <th>id</th>\n",
       "      <th>amount_tsh</th>\n",
       "      <th>date_recorded</th>\n",
       "      <th>funder</th>\n",
       "      <th>gps_height</th>\n",
       "      <th>installer</th>\n",
       "      <th>longitude</th>\n",
       "      <th>latitude</th>\n",
       "      <th>wpt_name</th>\n",
       "      <th>num_private</th>\n",
       "      <th>...</th>\n",
       "      <th>water_quality</th>\n",
       "      <th>quality_group</th>\n",
       "      <th>quantity</th>\n",
       "      <th>quantity_group</th>\n",
       "      <th>source</th>\n",
       "      <th>source_type</th>\n",
       "      <th>source_class</th>\n",
       "      <th>waterpoint_type</th>\n",
       "      <th>waterpoint_type_group</th>\n",
       "      <th>status_group</th>\n",
       "    </tr>\n",
       "  </thead>\n",
       "  <tbody>\n",
       "    <tr>\n",
       "      <th>0</th>\n",
       "      <td>69572</td>\n",
       "      <td>6000.0</td>\n",
       "      <td>2011-03-14</td>\n",
       "      <td>Roman</td>\n",
       "      <td>1390</td>\n",
       "      <td>Roman</td>\n",
       "      <td>34.938093</td>\n",
       "      <td>-9.856322</td>\n",
       "      <td>none</td>\n",
       "      <td>0</td>\n",
       "      <td>...</td>\n",
       "      <td>soft</td>\n",
       "      <td>good</td>\n",
       "      <td>enough</td>\n",
       "      <td>enough</td>\n",
       "      <td>spring</td>\n",
       "      <td>spring</td>\n",
       "      <td>groundwater</td>\n",
       "      <td>communal standpipe</td>\n",
       "      <td>communal standpipe</td>\n",
       "      <td>functional</td>\n",
       "    </tr>\n",
       "    <tr>\n",
       "      <th>1</th>\n",
       "      <td>8776</td>\n",
       "      <td>0.0</td>\n",
       "      <td>2013-03-06</td>\n",
       "      <td>Grumeti</td>\n",
       "      <td>1399</td>\n",
       "      <td>GRUMETI</td>\n",
       "      <td>34.698766</td>\n",
       "      <td>-2.147466</td>\n",
       "      <td>Zahanati</td>\n",
       "      <td>0</td>\n",
       "      <td>...</td>\n",
       "      <td>soft</td>\n",
       "      <td>good</td>\n",
       "      <td>insufficient</td>\n",
       "      <td>insufficient</td>\n",
       "      <td>rainwater harvesting</td>\n",
       "      <td>rainwater harvesting</td>\n",
       "      <td>surface</td>\n",
       "      <td>communal standpipe</td>\n",
       "      <td>communal standpipe</td>\n",
       "      <td>functional</td>\n",
       "    </tr>\n",
       "    <tr>\n",
       "      <th>2</th>\n",
       "      <td>34310</td>\n",
       "      <td>25.0</td>\n",
       "      <td>2013-02-25</td>\n",
       "      <td>Lottery Club</td>\n",
       "      <td>686</td>\n",
       "      <td>World vision</td>\n",
       "      <td>37.460664</td>\n",
       "      <td>-3.821329</td>\n",
       "      <td>Kwa Mahundi</td>\n",
       "      <td>0</td>\n",
       "      <td>...</td>\n",
       "      <td>soft</td>\n",
       "      <td>good</td>\n",
       "      <td>enough</td>\n",
       "      <td>enough</td>\n",
       "      <td>dam</td>\n",
       "      <td>dam</td>\n",
       "      <td>surface</td>\n",
       "      <td>communal standpipe multiple</td>\n",
       "      <td>communal standpipe</td>\n",
       "      <td>functional</td>\n",
       "    </tr>\n",
       "    <tr>\n",
       "      <th>3</th>\n",
       "      <td>67743</td>\n",
       "      <td>0.0</td>\n",
       "      <td>2013-01-28</td>\n",
       "      <td>Unicef</td>\n",
       "      <td>263</td>\n",
       "      <td>UNICEF</td>\n",
       "      <td>38.486161</td>\n",
       "      <td>-11.155298</td>\n",
       "      <td>Zahanati Ya Nanyumbu</td>\n",
       "      <td>0</td>\n",
       "      <td>...</td>\n",
       "      <td>soft</td>\n",
       "      <td>good</td>\n",
       "      <td>dry</td>\n",
       "      <td>dry</td>\n",
       "      <td>machine dbh</td>\n",
       "      <td>borehole</td>\n",
       "      <td>groundwater</td>\n",
       "      <td>communal standpipe multiple</td>\n",
       "      <td>communal standpipe</td>\n",
       "      <td>non functional</td>\n",
       "    </tr>\n",
       "    <tr>\n",
       "      <th>4</th>\n",
       "      <td>19728</td>\n",
       "      <td>0.0</td>\n",
       "      <td>2011-07-13</td>\n",
       "      <td>Action In A</td>\n",
       "      <td>0</td>\n",
       "      <td>Artisan</td>\n",
       "      <td>31.130847</td>\n",
       "      <td>-1.825359</td>\n",
       "      <td>Shuleni</td>\n",
       "      <td>0</td>\n",
       "      <td>...</td>\n",
       "      <td>soft</td>\n",
       "      <td>good</td>\n",
       "      <td>seasonal</td>\n",
       "      <td>seasonal</td>\n",
       "      <td>rainwater harvesting</td>\n",
       "      <td>rainwater harvesting</td>\n",
       "      <td>surface</td>\n",
       "      <td>communal standpipe</td>\n",
       "      <td>communal standpipe</td>\n",
       "      <td>functional</td>\n",
       "    </tr>\n",
       "  </tbody>\n",
       "</table>\n",
       "<p>5 rows × 41 columns</p>\n",
       "</div>"
      ],
      "text/plain": [
       "      id  amount_tsh date_recorded        funder  gps_height     installer  \\\n",
       "0  69572      6000.0    2011-03-14         Roman        1390         Roman   \n",
       "1   8776         0.0    2013-03-06       Grumeti        1399       GRUMETI   \n",
       "2  34310        25.0    2013-02-25  Lottery Club         686  World vision   \n",
       "3  67743         0.0    2013-01-28        Unicef         263        UNICEF   \n",
       "4  19728         0.0    2011-07-13   Action In A           0       Artisan   \n",
       "\n",
       "   longitude   latitude              wpt_name  num_private  ... water_quality  \\\n",
       "0  34.938093  -9.856322                  none            0  ...          soft   \n",
       "1  34.698766  -2.147466              Zahanati            0  ...          soft   \n",
       "2  37.460664  -3.821329           Kwa Mahundi            0  ...          soft   \n",
       "3  38.486161 -11.155298  Zahanati Ya Nanyumbu            0  ...          soft   \n",
       "4  31.130847  -1.825359               Shuleni            0  ...          soft   \n",
       "\n",
       "  quality_group      quantity  quantity_group                source  \\\n",
       "0          good        enough          enough                spring   \n",
       "1          good  insufficient    insufficient  rainwater harvesting   \n",
       "2          good        enough          enough                   dam   \n",
       "3          good           dry             dry           machine dbh   \n",
       "4          good      seasonal        seasonal  rainwater harvesting   \n",
       "\n",
       "            source_type source_class              waterpoint_type  \\\n",
       "0                spring  groundwater           communal standpipe   \n",
       "1  rainwater harvesting      surface           communal standpipe   \n",
       "2                   dam      surface  communal standpipe multiple   \n",
       "3              borehole  groundwater  communal standpipe multiple   \n",
       "4  rainwater harvesting      surface           communal standpipe   \n",
       "\n",
       "  waterpoint_type_group    status_group  \n",
       "0    communal standpipe      functional  \n",
       "1    communal standpipe      functional  \n",
       "2    communal standpipe      functional  \n",
       "3    communal standpipe  non functional  \n",
       "4    communal standpipe      functional  \n",
       "\n",
       "[5 rows x 41 columns]"
      ]
     },
     "execution_count": 885,
     "metadata": {},
     "output_type": "execute_result"
    }
   ],
   "source": [
    "pump_df = pd.merge(left=pump_vals, right=pump_labels, how='inner', on='id')\n",
    "pump_df.head()"
   ]
  },
  {
   "cell_type": "code",
   "execution_count": 886,
   "id": "5b9dc723",
   "metadata": {},
   "outputs": [
    {
     "data": {
      "text/plain": [
       "(59400, 41)"
      ]
     },
     "execution_count": 886,
     "metadata": {},
     "output_type": "execute_result"
    }
   ],
   "source": [
    "pump_df.shape"
   ]
  },
  {
   "cell_type": "markdown",
   "id": "c753cbda",
   "metadata": {},
   "source": [
    "# 5. Data Cleaning"
   ]
  },
  {
   "cell_type": "code",
   "execution_count": 887,
   "id": "e65c66c6",
   "metadata": {
    "scrolled": true
   },
   "outputs": [
    {
     "name": "stdout",
     "output_type": "stream",
     "text": [
      "<class 'pandas.core.frame.DataFrame'>\n",
      "Int64Index: 59400 entries, 0 to 59399\n",
      "Data columns (total 41 columns):\n",
      " #   Column                 Non-Null Count  Dtype  \n",
      "---  ------                 --------------  -----  \n",
      " 0   id                     59400 non-null  int64  \n",
      " 1   amount_tsh             59400 non-null  float64\n",
      " 2   date_recorded          59400 non-null  object \n",
      " 3   funder                 55765 non-null  object \n",
      " 4   gps_height             59400 non-null  int64  \n",
      " 5   installer              55745 non-null  object \n",
      " 6   longitude              59400 non-null  float64\n",
      " 7   latitude               59400 non-null  float64\n",
      " 8   wpt_name               59400 non-null  object \n",
      " 9   num_private            59400 non-null  int64  \n",
      " 10  basin                  59400 non-null  object \n",
      " 11  subvillage             59029 non-null  object \n",
      " 12  region                 59400 non-null  object \n",
      " 13  region_code            59400 non-null  int64  \n",
      " 14  district_code          59400 non-null  int64  \n",
      " 15  lga                    59400 non-null  object \n",
      " 16  ward                   59400 non-null  object \n",
      " 17  population             59400 non-null  int64  \n",
      " 18  public_meeting         56066 non-null  object \n",
      " 19  recorded_by            59400 non-null  object \n",
      " 20  scheme_management      55523 non-null  object \n",
      " 21  scheme_name            31234 non-null  object \n",
      " 22  permit                 56344 non-null  object \n",
      " 23  construction_year      59400 non-null  int64  \n",
      " 24  extraction_type        59400 non-null  object \n",
      " 25  extraction_type_group  59400 non-null  object \n",
      " 26  extraction_type_class  59400 non-null  object \n",
      " 27  management             59400 non-null  object \n",
      " 28  management_group       59400 non-null  object \n",
      " 29  payment                59400 non-null  object \n",
      " 30  payment_type           59400 non-null  object \n",
      " 31  water_quality          59400 non-null  object \n",
      " 32  quality_group          59400 non-null  object \n",
      " 33  quantity               59400 non-null  object \n",
      " 34  quantity_group         59400 non-null  object \n",
      " 35  source                 59400 non-null  object \n",
      " 36  source_type            59400 non-null  object \n",
      " 37  source_class           59400 non-null  object \n",
      " 38  waterpoint_type        59400 non-null  object \n",
      " 39  waterpoint_type_group  59400 non-null  object \n",
      " 40  status_group           59400 non-null  object \n",
      "dtypes: float64(3), int64(7), object(31)\n",
      "memory usage: 19.0+ MB\n"
     ]
    }
   ],
   "source": [
    "pump_df.info()"
   ]
  },
  {
   "cell_type": "code",
   "execution_count": 888,
   "id": "cc8bb949",
   "metadata": {
    "scrolled": true
   },
   "outputs": [
    {
     "data": {
      "text/plain": [
       "id                           0\n",
       "amount_tsh                   0\n",
       "date_recorded                0\n",
       "funder                    3635\n",
       "gps_height                   0\n",
       "installer                 3655\n",
       "longitude                    0\n",
       "latitude                     0\n",
       "wpt_name                     0\n",
       "num_private                  0\n",
       "basin                        0\n",
       "subvillage                 371\n",
       "region                       0\n",
       "region_code                  0\n",
       "district_code                0\n",
       "lga                          0\n",
       "ward                         0\n",
       "population                   0\n",
       "public_meeting            3334\n",
       "recorded_by                  0\n",
       "scheme_management         3877\n",
       "scheme_name              28166\n",
       "permit                    3056\n",
       "construction_year            0\n",
       "extraction_type              0\n",
       "extraction_type_group        0\n",
       "extraction_type_class        0\n",
       "management                   0\n",
       "management_group             0\n",
       "payment                      0\n",
       "payment_type                 0\n",
       "water_quality                0\n",
       "quality_group                0\n",
       "quantity                     0\n",
       "quantity_group               0\n",
       "source                       0\n",
       "source_type                  0\n",
       "source_class                 0\n",
       "waterpoint_type              0\n",
       "waterpoint_type_group        0\n",
       "status_group                 0\n",
       "dtype: int64"
      ]
     },
     "execution_count": 888,
     "metadata": {},
     "output_type": "execute_result"
    }
   ],
   "source": [
    "pump_df.isna().sum()"
   ]
  },
  {
   "cell_type": "code",
   "execution_count": 889,
   "id": "005b36aa",
   "metadata": {},
   "outputs": [],
   "source": [
    "# drop scheme name because it contains almost half NULL values\n",
    "pump_df = pump_df.drop('scheme_name', axis=1)"
   ]
  },
  {
   "cell_type": "markdown",
   "id": "84827ac8",
   "metadata": {},
   "source": [
    "#### Drop any redundant columns or columns that are not relevant"
   ]
  },
  {
   "cell_type": "code",
   "execution_count": 890,
   "id": "9f76d654",
   "metadata": {},
   "outputs": [],
   "source": [
    "pump_df = pump_df.drop(['funder', 'subvillage', 'scheme_management'], axis=1)"
   ]
  },
  {
   "cell_type": "code",
   "execution_count": 891,
   "id": "c9fee85f",
   "metadata": {},
   "outputs": [],
   "source": [
    "# columns with redundancy or columns that will not be necessary for our modeling\n",
    "drop_cols = ['quantity_group', 'quality_group', 'source_type', 'waterpoint_type_group', 'payment', \\\n",
    "             'extraction_type', 'extraction_type_group', 'recorded_by', 'region', 'amount_tsh', \\\n",
    "             'wpt_name', 'lga', 'ward', 'num_private', 'management_group', 'id']\n",
    "\n",
    "pump_df = pump_df.drop(drop_cols, axis=1)"
   ]
  },
  {
   "cell_type": "markdown",
   "id": "0020ceb9",
   "metadata": {},
   "source": [
    "#### Fill Null values with either mean value or filler value (for installer column)"
   ]
  },
  {
   "cell_type": "code",
   "execution_count": 892,
   "id": "b2513429",
   "metadata": {},
   "outputs": [],
   "source": [
    "pump_df = pump_df.fillna(value={'permit': False, 'public_meeting': True, 'installer': 'N/A'})"
   ]
  },
  {
   "cell_type": "code",
   "execution_count": 893,
   "id": "0f0b4a66",
   "metadata": {
    "scrolled": false
   },
   "outputs": [
    {
     "data": {
      "text/html": [
       "<div>\n",
       "<style scoped>\n",
       "    .dataframe tbody tr th:only-of-type {\n",
       "        vertical-align: middle;\n",
       "    }\n",
       "\n",
       "    .dataframe tbody tr th {\n",
       "        vertical-align: top;\n",
       "    }\n",
       "\n",
       "    .dataframe thead th {\n",
       "        text-align: right;\n",
       "    }\n",
       "</style>\n",
       "<table border=\"1\" class=\"dataframe\">\n",
       "  <thead>\n",
       "    <tr style=\"text-align: right;\">\n",
       "      <th></th>\n",
       "      <th>date_recorded</th>\n",
       "      <th>gps_height</th>\n",
       "      <th>installer</th>\n",
       "      <th>longitude</th>\n",
       "      <th>latitude</th>\n",
       "      <th>basin</th>\n",
       "      <th>region_code</th>\n",
       "      <th>district_code</th>\n",
       "      <th>population</th>\n",
       "      <th>public_meeting</th>\n",
       "      <th>...</th>\n",
       "      <th>construction_year</th>\n",
       "      <th>extraction_type_class</th>\n",
       "      <th>management</th>\n",
       "      <th>payment_type</th>\n",
       "      <th>water_quality</th>\n",
       "      <th>quantity</th>\n",
       "      <th>source</th>\n",
       "      <th>source_class</th>\n",
       "      <th>waterpoint_type</th>\n",
       "      <th>status_group</th>\n",
       "    </tr>\n",
       "  </thead>\n",
       "  <tbody>\n",
       "    <tr>\n",
       "      <th>0</th>\n",
       "      <td>2011-03-14</td>\n",
       "      <td>1390</td>\n",
       "      <td>Roman</td>\n",
       "      <td>34.938093</td>\n",
       "      <td>-9.856322</td>\n",
       "      <td>Lake Nyasa</td>\n",
       "      <td>11</td>\n",
       "      <td>5</td>\n",
       "      <td>109</td>\n",
       "      <td>True</td>\n",
       "      <td>...</td>\n",
       "      <td>1999</td>\n",
       "      <td>gravity</td>\n",
       "      <td>vwc</td>\n",
       "      <td>annually</td>\n",
       "      <td>soft</td>\n",
       "      <td>enough</td>\n",
       "      <td>spring</td>\n",
       "      <td>groundwater</td>\n",
       "      <td>communal standpipe</td>\n",
       "      <td>functional</td>\n",
       "    </tr>\n",
       "    <tr>\n",
       "      <th>1</th>\n",
       "      <td>2013-03-06</td>\n",
       "      <td>1399</td>\n",
       "      <td>GRUMETI</td>\n",
       "      <td>34.698766</td>\n",
       "      <td>-2.147466</td>\n",
       "      <td>Lake Victoria</td>\n",
       "      <td>20</td>\n",
       "      <td>2</td>\n",
       "      <td>280</td>\n",
       "      <td>True</td>\n",
       "      <td>...</td>\n",
       "      <td>2010</td>\n",
       "      <td>gravity</td>\n",
       "      <td>wug</td>\n",
       "      <td>never pay</td>\n",
       "      <td>soft</td>\n",
       "      <td>insufficient</td>\n",
       "      <td>rainwater harvesting</td>\n",
       "      <td>surface</td>\n",
       "      <td>communal standpipe</td>\n",
       "      <td>functional</td>\n",
       "    </tr>\n",
       "    <tr>\n",
       "      <th>2</th>\n",
       "      <td>2013-02-25</td>\n",
       "      <td>686</td>\n",
       "      <td>World vision</td>\n",
       "      <td>37.460664</td>\n",
       "      <td>-3.821329</td>\n",
       "      <td>Pangani</td>\n",
       "      <td>21</td>\n",
       "      <td>4</td>\n",
       "      <td>250</td>\n",
       "      <td>True</td>\n",
       "      <td>...</td>\n",
       "      <td>2009</td>\n",
       "      <td>gravity</td>\n",
       "      <td>vwc</td>\n",
       "      <td>per bucket</td>\n",
       "      <td>soft</td>\n",
       "      <td>enough</td>\n",
       "      <td>dam</td>\n",
       "      <td>surface</td>\n",
       "      <td>communal standpipe multiple</td>\n",
       "      <td>functional</td>\n",
       "    </tr>\n",
       "    <tr>\n",
       "      <th>3</th>\n",
       "      <td>2013-01-28</td>\n",
       "      <td>263</td>\n",
       "      <td>UNICEF</td>\n",
       "      <td>38.486161</td>\n",
       "      <td>-11.155298</td>\n",
       "      <td>Ruvuma / Southern Coast</td>\n",
       "      <td>90</td>\n",
       "      <td>63</td>\n",
       "      <td>58</td>\n",
       "      <td>True</td>\n",
       "      <td>...</td>\n",
       "      <td>1986</td>\n",
       "      <td>submersible</td>\n",
       "      <td>vwc</td>\n",
       "      <td>never pay</td>\n",
       "      <td>soft</td>\n",
       "      <td>dry</td>\n",
       "      <td>machine dbh</td>\n",
       "      <td>groundwater</td>\n",
       "      <td>communal standpipe multiple</td>\n",
       "      <td>non functional</td>\n",
       "    </tr>\n",
       "    <tr>\n",
       "      <th>4</th>\n",
       "      <td>2011-07-13</td>\n",
       "      <td>0</td>\n",
       "      <td>Artisan</td>\n",
       "      <td>31.130847</td>\n",
       "      <td>-1.825359</td>\n",
       "      <td>Lake Victoria</td>\n",
       "      <td>18</td>\n",
       "      <td>1</td>\n",
       "      <td>0</td>\n",
       "      <td>True</td>\n",
       "      <td>...</td>\n",
       "      <td>0</td>\n",
       "      <td>gravity</td>\n",
       "      <td>other</td>\n",
       "      <td>never pay</td>\n",
       "      <td>soft</td>\n",
       "      <td>seasonal</td>\n",
       "      <td>rainwater harvesting</td>\n",
       "      <td>surface</td>\n",
       "      <td>communal standpipe</td>\n",
       "      <td>functional</td>\n",
       "    </tr>\n",
       "  </tbody>\n",
       "</table>\n",
       "<p>5 rows × 21 columns</p>\n",
       "</div>"
      ],
      "text/plain": [
       "  date_recorded  gps_height     installer  longitude   latitude  \\\n",
       "0    2011-03-14        1390         Roman  34.938093  -9.856322   \n",
       "1    2013-03-06        1399       GRUMETI  34.698766  -2.147466   \n",
       "2    2013-02-25         686  World vision  37.460664  -3.821329   \n",
       "3    2013-01-28         263        UNICEF  38.486161 -11.155298   \n",
       "4    2011-07-13           0       Artisan  31.130847  -1.825359   \n",
       "\n",
       "                     basin  region_code  district_code  population  \\\n",
       "0               Lake Nyasa           11              5         109   \n",
       "1            Lake Victoria           20              2         280   \n",
       "2                  Pangani           21              4         250   \n",
       "3  Ruvuma / Southern Coast           90             63          58   \n",
       "4            Lake Victoria           18              1           0   \n",
       "\n",
       "   public_meeting  ...  construction_year  extraction_type_class management  \\\n",
       "0            True  ...               1999                gravity        vwc   \n",
       "1            True  ...               2010                gravity        wug   \n",
       "2            True  ...               2009                gravity        vwc   \n",
       "3            True  ...               1986            submersible        vwc   \n",
       "4            True  ...                  0                gravity      other   \n",
       "\n",
       "  payment_type water_quality      quantity                source source_class  \\\n",
       "0     annually          soft        enough                spring  groundwater   \n",
       "1    never pay          soft  insufficient  rainwater harvesting      surface   \n",
       "2   per bucket          soft        enough                   dam      surface   \n",
       "3    never pay          soft           dry           machine dbh  groundwater   \n",
       "4    never pay          soft      seasonal  rainwater harvesting      surface   \n",
       "\n",
       "               waterpoint_type    status_group  \n",
       "0           communal standpipe      functional  \n",
       "1           communal standpipe      functional  \n",
       "2  communal standpipe multiple      functional  \n",
       "3  communal standpipe multiple  non functional  \n",
       "4           communal standpipe      functional  \n",
       "\n",
       "[5 rows x 21 columns]"
      ]
     },
     "execution_count": 893,
     "metadata": {},
     "output_type": "execute_result"
    }
   ],
   "source": [
    "pump_df.head()"
   ]
  },
  {
   "cell_type": "markdown",
   "id": "524b5b28",
   "metadata": {},
   "source": [
    "#### Now that we have removed and replicative columns and cleaned up missing data, we have to dive deeper into what value types and ranges our final columns have. Are there any 0's in place that are just there as 'fillers'?"
   ]
  },
  {
   "cell_type": "code",
   "execution_count": 894,
   "id": "bf0fc02d",
   "metadata": {},
   "outputs": [],
   "source": [
    "# convert all 0 to NaN and then convert other years into 'ages' and then fill NaN in with average age\n",
    "pump_df.construction_year = pump_df.construction_year.replace(0, np.NaN)\n",
    "\n",
    "pump_df['age'] = pump_df.construction_year.apply(lambda x: 2013 - x)\n",
    "pump_df.age = pump_df.age.fillna(np.round(pump_df.age.mean()))\n",
    "\n",
    "pump_df = pump_df.drop('construction_year', axis=1)"
   ]
  },
  {
   "cell_type": "code",
   "execution_count": 895,
   "id": "7c472239",
   "metadata": {
    "scrolled": true
   },
   "outputs": [
    {
     "data": {
      "text/html": [
       "<div>\n",
       "<style scoped>\n",
       "    .dataframe tbody tr th:only-of-type {\n",
       "        vertical-align: middle;\n",
       "    }\n",
       "\n",
       "    .dataframe tbody tr th {\n",
       "        vertical-align: top;\n",
       "    }\n",
       "\n",
       "    .dataframe thead th {\n",
       "        text-align: right;\n",
       "    }\n",
       "</style>\n",
       "<table border=\"1\" class=\"dataframe\">\n",
       "  <thead>\n",
       "    <tr style=\"text-align: right;\">\n",
       "      <th></th>\n",
       "      <th>date_recorded</th>\n",
       "      <th>gps_height</th>\n",
       "      <th>installer</th>\n",
       "      <th>longitude</th>\n",
       "      <th>latitude</th>\n",
       "      <th>basin</th>\n",
       "      <th>region_code</th>\n",
       "      <th>district_code</th>\n",
       "      <th>population</th>\n",
       "      <th>public_meeting</th>\n",
       "      <th>...</th>\n",
       "      <th>extraction_type_class</th>\n",
       "      <th>management</th>\n",
       "      <th>payment_type</th>\n",
       "      <th>water_quality</th>\n",
       "      <th>quantity</th>\n",
       "      <th>source</th>\n",
       "      <th>source_class</th>\n",
       "      <th>waterpoint_type</th>\n",
       "      <th>status_group</th>\n",
       "      <th>age</th>\n",
       "    </tr>\n",
       "  </thead>\n",
       "  <tbody>\n",
       "    <tr>\n",
       "      <th>0</th>\n",
       "      <td>2011-03-14</td>\n",
       "      <td>1390</td>\n",
       "      <td>Roman</td>\n",
       "      <td>34.938093</td>\n",
       "      <td>-9.856322</td>\n",
       "      <td>Lake Nyasa</td>\n",
       "      <td>11</td>\n",
       "      <td>5</td>\n",
       "      <td>109</td>\n",
       "      <td>True</td>\n",
       "      <td>...</td>\n",
       "      <td>gravity</td>\n",
       "      <td>vwc</td>\n",
       "      <td>annually</td>\n",
       "      <td>soft</td>\n",
       "      <td>enough</td>\n",
       "      <td>spring</td>\n",
       "      <td>groundwater</td>\n",
       "      <td>communal standpipe</td>\n",
       "      <td>functional</td>\n",
       "      <td>14.0</td>\n",
       "    </tr>\n",
       "    <tr>\n",
       "      <th>1</th>\n",
       "      <td>2013-03-06</td>\n",
       "      <td>1399</td>\n",
       "      <td>GRUMETI</td>\n",
       "      <td>34.698766</td>\n",
       "      <td>-2.147466</td>\n",
       "      <td>Lake Victoria</td>\n",
       "      <td>20</td>\n",
       "      <td>2</td>\n",
       "      <td>280</td>\n",
       "      <td>True</td>\n",
       "      <td>...</td>\n",
       "      <td>gravity</td>\n",
       "      <td>wug</td>\n",
       "      <td>never pay</td>\n",
       "      <td>soft</td>\n",
       "      <td>insufficient</td>\n",
       "      <td>rainwater harvesting</td>\n",
       "      <td>surface</td>\n",
       "      <td>communal standpipe</td>\n",
       "      <td>functional</td>\n",
       "      <td>3.0</td>\n",
       "    </tr>\n",
       "    <tr>\n",
       "      <th>2</th>\n",
       "      <td>2013-02-25</td>\n",
       "      <td>686</td>\n",
       "      <td>World vision</td>\n",
       "      <td>37.460664</td>\n",
       "      <td>-3.821329</td>\n",
       "      <td>Pangani</td>\n",
       "      <td>21</td>\n",
       "      <td>4</td>\n",
       "      <td>250</td>\n",
       "      <td>True</td>\n",
       "      <td>...</td>\n",
       "      <td>gravity</td>\n",
       "      <td>vwc</td>\n",
       "      <td>per bucket</td>\n",
       "      <td>soft</td>\n",
       "      <td>enough</td>\n",
       "      <td>dam</td>\n",
       "      <td>surface</td>\n",
       "      <td>communal standpipe multiple</td>\n",
       "      <td>functional</td>\n",
       "      <td>4.0</td>\n",
       "    </tr>\n",
       "    <tr>\n",
       "      <th>3</th>\n",
       "      <td>2013-01-28</td>\n",
       "      <td>263</td>\n",
       "      <td>UNICEF</td>\n",
       "      <td>38.486161</td>\n",
       "      <td>-11.155298</td>\n",
       "      <td>Ruvuma / Southern Coast</td>\n",
       "      <td>90</td>\n",
       "      <td>63</td>\n",
       "      <td>58</td>\n",
       "      <td>True</td>\n",
       "      <td>...</td>\n",
       "      <td>submersible</td>\n",
       "      <td>vwc</td>\n",
       "      <td>never pay</td>\n",
       "      <td>soft</td>\n",
       "      <td>dry</td>\n",
       "      <td>machine dbh</td>\n",
       "      <td>groundwater</td>\n",
       "      <td>communal standpipe multiple</td>\n",
       "      <td>non functional</td>\n",
       "      <td>27.0</td>\n",
       "    </tr>\n",
       "    <tr>\n",
       "      <th>4</th>\n",
       "      <td>2011-07-13</td>\n",
       "      <td>0</td>\n",
       "      <td>Artisan</td>\n",
       "      <td>31.130847</td>\n",
       "      <td>-1.825359</td>\n",
       "      <td>Lake Victoria</td>\n",
       "      <td>18</td>\n",
       "      <td>1</td>\n",
       "      <td>0</td>\n",
       "      <td>True</td>\n",
       "      <td>...</td>\n",
       "      <td>gravity</td>\n",
       "      <td>other</td>\n",
       "      <td>never pay</td>\n",
       "      <td>soft</td>\n",
       "      <td>seasonal</td>\n",
       "      <td>rainwater harvesting</td>\n",
       "      <td>surface</td>\n",
       "      <td>communal standpipe</td>\n",
       "      <td>functional</td>\n",
       "      <td>16.0</td>\n",
       "    </tr>\n",
       "  </tbody>\n",
       "</table>\n",
       "<p>5 rows × 21 columns</p>\n",
       "</div>"
      ],
      "text/plain": [
       "  date_recorded  gps_height     installer  longitude   latitude  \\\n",
       "0    2011-03-14        1390         Roman  34.938093  -9.856322   \n",
       "1    2013-03-06        1399       GRUMETI  34.698766  -2.147466   \n",
       "2    2013-02-25         686  World vision  37.460664  -3.821329   \n",
       "3    2013-01-28         263        UNICEF  38.486161 -11.155298   \n",
       "4    2011-07-13           0       Artisan  31.130847  -1.825359   \n",
       "\n",
       "                     basin  region_code  district_code  population  \\\n",
       "0               Lake Nyasa           11              5         109   \n",
       "1            Lake Victoria           20              2         280   \n",
       "2                  Pangani           21              4         250   \n",
       "3  Ruvuma / Southern Coast           90             63          58   \n",
       "4            Lake Victoria           18              1           0   \n",
       "\n",
       "   public_meeting  ...  extraction_type_class management payment_type  \\\n",
       "0            True  ...                gravity        vwc     annually   \n",
       "1            True  ...                gravity        wug    never pay   \n",
       "2            True  ...                gravity        vwc   per bucket   \n",
       "3            True  ...            submersible        vwc    never pay   \n",
       "4            True  ...                gravity      other    never pay   \n",
       "\n",
       "  water_quality      quantity                source source_class  \\\n",
       "0          soft        enough                spring  groundwater   \n",
       "1          soft  insufficient  rainwater harvesting      surface   \n",
       "2          soft        enough                   dam      surface   \n",
       "3          soft           dry           machine dbh  groundwater   \n",
       "4          soft      seasonal  rainwater harvesting      surface   \n",
       "\n",
       "               waterpoint_type    status_group   age  \n",
       "0           communal standpipe      functional  14.0  \n",
       "1           communal standpipe      functional   3.0  \n",
       "2  communal standpipe multiple      functional   4.0  \n",
       "3  communal standpipe multiple  non functional  27.0  \n",
       "4           communal standpipe      functional  16.0  \n",
       "\n",
       "[5 rows x 21 columns]"
      ]
     },
     "execution_count": 895,
     "metadata": {},
     "output_type": "execute_result"
    }
   ],
   "source": [
    "pump_df.head()"
   ]
  },
  {
   "cell_type": "code",
   "execution_count": 896,
   "id": "35312cf2",
   "metadata": {
    "scrolled": true
   },
   "outputs": [],
   "source": [
    "# assign any population values of 0 to the population mean\n",
    "pop_mean = pump_df[pump_df['population'] > 0].population.mean()\n",
    "pump_df.population = np.where(pump_df.population == 0, pop_mean, pump_df.population)"
   ]
  },
  {
   "cell_type": "code",
   "execution_count": 897,
   "id": "8ad3a597",
   "metadata": {
    "scrolled": true
   },
   "outputs": [],
   "source": [
    "# assign any gps_height values of 0 to the height mean\n",
    "gps_mean = pump_df[pump_df['gps_height'] > 0].gps_height.mean()\n",
    "pump_df.gps_height = np.where(pump_df.gps_height == 0, gps_mean, pump_df.gps_height)"
   ]
  },
  {
   "cell_type": "code",
   "execution_count": 898,
   "id": "0fc17a95",
   "metadata": {},
   "outputs": [],
   "source": [
    "# change permit and permit meeting from booleans into int\n",
    "pump_df.public_meeting = pump_df.public_meeting.astype(int)\n",
    "pump_df.permit = pump_df.permit.astype(int)"
   ]
  },
  {
   "cell_type": "code",
   "execution_count": 899,
   "id": "6d5eb554",
   "metadata": {
    "scrolled": false
   },
   "outputs": [
    {
     "name": "stdout",
     "output_type": "stream",
     "text": [
      "<class 'pandas.core.frame.DataFrame'>\n",
      "Int64Index: 59400 entries, 0 to 59399\n",
      "Data columns (total 21 columns):\n",
      " #   Column                 Non-Null Count  Dtype  \n",
      "---  ------                 --------------  -----  \n",
      " 0   date_recorded          59400 non-null  object \n",
      " 1   gps_height             59400 non-null  float64\n",
      " 2   installer              59400 non-null  object \n",
      " 3   longitude              59400 non-null  float64\n",
      " 4   latitude               59400 non-null  float64\n",
      " 5   basin                  59400 non-null  object \n",
      " 6   region_code            59400 non-null  int64  \n",
      " 7   district_code          59400 non-null  int64  \n",
      " 8   population             59400 non-null  float64\n",
      " 9   public_meeting         59400 non-null  int64  \n",
      " 10  permit                 59400 non-null  int64  \n",
      " 11  extraction_type_class  59400 non-null  object \n",
      " 12  management             59400 non-null  object \n",
      " 13  payment_type           59400 non-null  object \n",
      " 14  water_quality          59400 non-null  object \n",
      " 15  quantity               59400 non-null  object \n",
      " 16  source                 59400 non-null  object \n",
      " 17  source_class           59400 non-null  object \n",
      " 18  waterpoint_type        59400 non-null  object \n",
      " 19  status_group           59400 non-null  object \n",
      " 20  age                    59400 non-null  float64\n",
      "dtypes: float64(5), int64(4), object(12)\n",
      "memory usage: 10.0+ MB\n"
     ]
    }
   ],
   "source": [
    "pump_df.info()"
   ]
  },
  {
   "cell_type": "code",
   "execution_count": 900,
   "id": "303ad2d6",
   "metadata": {},
   "outputs": [],
   "source": [
    "# region code and district code. convert to string and then One Hot Encode later, because while they are numeric, \n",
    "# they represent categorical data\n",
    "pump_df['region_code'] = pump_df['region_code'].astype(str)\n",
    "pump_df['district_code'] = pump_df['district_code'].astype(str)"
   ]
  },
  {
   "cell_type": "code",
   "execution_count": 901,
   "id": "e3057796",
   "metadata": {},
   "outputs": [],
   "source": [
    "# convert status_group to functional=2, functional needs repair = 1, and non functional = 0\n",
    "status = {'functional': 2, 'functional needs repair': 1, 'non functional': 0}\n",
    "\n",
    "pump_df['target'] = pump_df['status_group'].map(status)\n",
    "pump_df = pump_df.drop('status_group', axis=1)"
   ]
  },
  {
   "cell_type": "code",
   "execution_count": 902,
   "id": "514301b5",
   "metadata": {
    "scrolled": true
   },
   "outputs": [
    {
     "name": "stdout",
     "output_type": "stream",
     "text": [
      "<class 'pandas.core.frame.DataFrame'>\n",
      "Int64Index: 59400 entries, 0 to 59399\n",
      "Data columns (total 21 columns):\n",
      " #   Column                 Non-Null Count  Dtype  \n",
      "---  ------                 --------------  -----  \n",
      " 0   date_recorded          59400 non-null  object \n",
      " 1   gps_height             59400 non-null  float64\n",
      " 2   installer              59400 non-null  object \n",
      " 3   longitude              59400 non-null  float64\n",
      " 4   latitude               59400 non-null  float64\n",
      " 5   basin                  59400 non-null  object \n",
      " 6   region_code            59400 non-null  object \n",
      " 7   district_code          59400 non-null  object \n",
      " 8   population             59400 non-null  float64\n",
      " 9   public_meeting         59400 non-null  int64  \n",
      " 10  permit                 59400 non-null  int64  \n",
      " 11  extraction_type_class  59400 non-null  object \n",
      " 12  management             59400 non-null  object \n",
      " 13  payment_type           59400 non-null  object \n",
      " 14  water_quality          59400 non-null  object \n",
      " 15  quantity               59400 non-null  object \n",
      " 16  source                 59400 non-null  object \n",
      " 17  source_class           59400 non-null  object \n",
      " 18  waterpoint_type        59400 non-null  object \n",
      " 19  age                    59400 non-null  float64\n",
      " 20  target                 59400 non-null  int64  \n",
      "dtypes: float64(5), int64(3), object(13)\n",
      "memory usage: 10.0+ MB\n"
     ]
    }
   ],
   "source": [
    "pump_df.info()"
   ]
  },
  {
   "cell_type": "markdown",
   "id": "3b56da6b",
   "metadata": {},
   "source": [
    "#### Convert date into date time and then take only year to signify age of pump record"
   ]
  },
  {
   "cell_type": "code",
   "execution_count": 903,
   "id": "49e48292",
   "metadata": {},
   "outputs": [],
   "source": [
    "pump_df.date_recorded = pd.to_datetime(pump_df['date_recorded'])"
   ]
  },
  {
   "cell_type": "code",
   "execution_count": 904,
   "id": "e32328c7",
   "metadata": {
    "scrolled": false
   },
   "outputs": [
    {
     "name": "stdout",
     "output_type": "stream",
     "text": [
      "<class 'pandas.core.frame.DataFrame'>\n",
      "Int64Index: 59400 entries, 0 to 59399\n",
      "Data columns (total 21 columns):\n",
      " #   Column                 Non-Null Count  Dtype         \n",
      "---  ------                 --------------  -----         \n",
      " 0   date_recorded          59400 non-null  datetime64[ns]\n",
      " 1   gps_height             59400 non-null  float64       \n",
      " 2   installer              59400 non-null  object        \n",
      " 3   longitude              59400 non-null  float64       \n",
      " 4   latitude               59400 non-null  float64       \n",
      " 5   basin                  59400 non-null  object        \n",
      " 6   region_code            59400 non-null  object        \n",
      " 7   district_code          59400 non-null  object        \n",
      " 8   population             59400 non-null  float64       \n",
      " 9   public_meeting         59400 non-null  int64         \n",
      " 10  permit                 59400 non-null  int64         \n",
      " 11  extraction_type_class  59400 non-null  object        \n",
      " 12  management             59400 non-null  object        \n",
      " 13  payment_type           59400 non-null  object        \n",
      " 14  water_quality          59400 non-null  object        \n",
      " 15  quantity               59400 non-null  object        \n",
      " 16  source                 59400 non-null  object        \n",
      " 17  source_class           59400 non-null  object        \n",
      " 18  waterpoint_type        59400 non-null  object        \n",
      " 19  age                    59400 non-null  float64       \n",
      " 20  target                 59400 non-null  int64         \n",
      "dtypes: datetime64[ns](1), float64(5), int64(3), object(12)\n",
      "memory usage: 10.0+ MB\n"
     ]
    }
   ],
   "source": [
    "pump_df.info()"
   ]
  },
  {
   "cell_type": "code",
   "execution_count": 905,
   "id": "dc345835",
   "metadata": {},
   "outputs": [],
   "source": [
    "pump_df['age_record'] = 2013-pump_df['date_recorded'].dt.year\n",
    "pump_df = pump_df.drop('date_recorded', axis=1)"
   ]
  },
  {
   "cell_type": "code",
   "execution_count": 906,
   "id": "96f9af95",
   "metadata": {
    "scrolled": false
   },
   "outputs": [
    {
     "data": {
      "text/html": [
       "<div>\n",
       "<style scoped>\n",
       "    .dataframe tbody tr th:only-of-type {\n",
       "        vertical-align: middle;\n",
       "    }\n",
       "\n",
       "    .dataframe tbody tr th {\n",
       "        vertical-align: top;\n",
       "    }\n",
       "\n",
       "    .dataframe thead th {\n",
       "        text-align: right;\n",
       "    }\n",
       "</style>\n",
       "<table border=\"1\" class=\"dataframe\">\n",
       "  <thead>\n",
       "    <tr style=\"text-align: right;\">\n",
       "      <th></th>\n",
       "      <th>gps_height</th>\n",
       "      <th>longitude</th>\n",
       "      <th>latitude</th>\n",
       "      <th>population</th>\n",
       "      <th>public_meeting</th>\n",
       "      <th>permit</th>\n",
       "      <th>age</th>\n",
       "      <th>target</th>\n",
       "      <th>age_record</th>\n",
       "    </tr>\n",
       "  </thead>\n",
       "  <tbody>\n",
       "    <tr>\n",
       "      <th>count</th>\n",
       "      <td>59400.000000</td>\n",
       "      <td>59400.000000</td>\n",
       "      <td>5.940000e+04</td>\n",
       "      <td>59400.000000</td>\n",
       "      <td>59400.000000</td>\n",
       "      <td>59400.000000</td>\n",
       "      <td>59400.000000</td>\n",
       "      <td>59400.000000</td>\n",
       "      <td>59400.000000</td>\n",
       "    </tr>\n",
       "    <tr>\n",
       "      <th>mean</th>\n",
       "      <td>1033.133363</td>\n",
       "      <td>34.077427</td>\n",
       "      <td>-5.706033e+00</td>\n",
       "      <td>281.087167</td>\n",
       "      <td>0.914899</td>\n",
       "      <td>0.654074</td>\n",
       "      <td>16.120707</td>\n",
       "      <td>1.158838</td>\n",
       "      <td>1.078333</td>\n",
       "    </tr>\n",
       "    <tr>\n",
       "      <th>std</th>\n",
       "      <td>496.501747</td>\n",
       "      <td>6.567432</td>\n",
       "      <td>2.946019e+00</td>\n",
       "      <td>451.765813</td>\n",
       "      <td>0.279034</td>\n",
       "      <td>0.475673</td>\n",
       "      <td>10.066168</td>\n",
       "      <td>0.949794</td>\n",
       "      <td>0.958758</td>\n",
       "    </tr>\n",
       "    <tr>\n",
       "      <th>min</th>\n",
       "      <td>-90.000000</td>\n",
       "      <td>0.000000</td>\n",
       "      <td>-1.164944e+01</td>\n",
       "      <td>1.000000</td>\n",
       "      <td>0.000000</td>\n",
       "      <td>0.000000</td>\n",
       "      <td>0.000000</td>\n",
       "      <td>0.000000</td>\n",
       "      <td>0.000000</td>\n",
       "    </tr>\n",
       "    <tr>\n",
       "      <th>25%</th>\n",
       "      <td>903.000000</td>\n",
       "      <td>33.090347</td>\n",
       "      <td>-8.540621e+00</td>\n",
       "      <td>100.000000</td>\n",
       "      <td>1.000000</td>\n",
       "      <td>0.000000</td>\n",
       "      <td>9.000000</td>\n",
       "      <td>0.000000</td>\n",
       "      <td>0.000000</td>\n",
       "    </tr>\n",
       "    <tr>\n",
       "      <th>50%</th>\n",
       "      <td>1060.341803</td>\n",
       "      <td>34.908743</td>\n",
       "      <td>-5.021597e+00</td>\n",
       "      <td>281.087167</td>\n",
       "      <td>1.000000</td>\n",
       "      <td>1.000000</td>\n",
       "      <td>16.000000</td>\n",
       "      <td>2.000000</td>\n",
       "      <td>1.000000</td>\n",
       "    </tr>\n",
       "    <tr>\n",
       "      <th>75%</th>\n",
       "      <td>1319.250000</td>\n",
       "      <td>37.178387</td>\n",
       "      <td>-3.326156e+00</td>\n",
       "      <td>281.087167</td>\n",
       "      <td>1.000000</td>\n",
       "      <td>1.000000</td>\n",
       "      <td>17.000000</td>\n",
       "      <td>2.000000</td>\n",
       "      <td>2.000000</td>\n",
       "    </tr>\n",
       "    <tr>\n",
       "      <th>max</th>\n",
       "      <td>2770.000000</td>\n",
       "      <td>40.345193</td>\n",
       "      <td>-2.000000e-08</td>\n",
       "      <td>30500.000000</td>\n",
       "      <td>1.000000</td>\n",
       "      <td>1.000000</td>\n",
       "      <td>53.000000</td>\n",
       "      <td>2.000000</td>\n",
       "      <td>11.000000</td>\n",
       "    </tr>\n",
       "  </tbody>\n",
       "</table>\n",
       "</div>"
      ],
      "text/plain": [
       "         gps_height     longitude      latitude    population  public_meeting  \\\n",
       "count  59400.000000  59400.000000  5.940000e+04  59400.000000    59400.000000   \n",
       "mean    1033.133363     34.077427 -5.706033e+00    281.087167        0.914899   \n",
       "std      496.501747      6.567432  2.946019e+00    451.765813        0.279034   \n",
       "min      -90.000000      0.000000 -1.164944e+01      1.000000        0.000000   \n",
       "25%      903.000000     33.090347 -8.540621e+00    100.000000        1.000000   \n",
       "50%     1060.341803     34.908743 -5.021597e+00    281.087167        1.000000   \n",
       "75%     1319.250000     37.178387 -3.326156e+00    281.087167        1.000000   \n",
       "max     2770.000000     40.345193 -2.000000e-08  30500.000000        1.000000   \n",
       "\n",
       "             permit           age        target    age_record  \n",
       "count  59400.000000  59400.000000  59400.000000  59400.000000  \n",
       "mean       0.654074     16.120707      1.158838      1.078333  \n",
       "std        0.475673     10.066168      0.949794      0.958758  \n",
       "min        0.000000      0.000000      0.000000      0.000000  \n",
       "25%        0.000000      9.000000      0.000000      0.000000  \n",
       "50%        1.000000     16.000000      2.000000      1.000000  \n",
       "75%        1.000000     17.000000      2.000000      2.000000  \n",
       "max        1.000000     53.000000      2.000000     11.000000  "
      ]
     },
     "execution_count": 906,
     "metadata": {},
     "output_type": "execute_result"
    }
   ],
   "source": [
    "pump_df.describe()"
   ]
  },
  {
   "cell_type": "code",
   "execution_count": 907,
   "id": "b0290611",
   "metadata": {
    "scrolled": true
   },
   "outputs": [
    {
     "name": "stdout",
     "output_type": "stream",
     "text": [
      "<class 'pandas.core.frame.DataFrame'>\n",
      "Int64Index: 59400 entries, 0 to 59399\n",
      "Data columns (total 21 columns):\n",
      " #   Column                 Non-Null Count  Dtype  \n",
      "---  ------                 --------------  -----  \n",
      " 0   gps_height             59400 non-null  float64\n",
      " 1   installer              59400 non-null  object \n",
      " 2   longitude              59400 non-null  float64\n",
      " 3   latitude               59400 non-null  float64\n",
      " 4   basin                  59400 non-null  object \n",
      " 5   region_code            59400 non-null  object \n",
      " 6   district_code          59400 non-null  object \n",
      " 7   population             59400 non-null  float64\n",
      " 8   public_meeting         59400 non-null  int64  \n",
      " 9   permit                 59400 non-null  int64  \n",
      " 10  extraction_type_class  59400 non-null  object \n",
      " 11  management             59400 non-null  object \n",
      " 12  payment_type           59400 non-null  object \n",
      " 13  water_quality          59400 non-null  object \n",
      " 14  quantity               59400 non-null  object \n",
      " 15  source                 59400 non-null  object \n",
      " 16  source_class           59400 non-null  object \n",
      " 17  waterpoint_type        59400 non-null  object \n",
      " 18  age                    59400 non-null  float64\n",
      " 19  target                 59400 non-null  int64  \n",
      " 20  age_record             59400 non-null  int64  \n",
      "dtypes: float64(5), int64(4), object(12)\n",
      "memory usage: 10.0+ MB\n"
     ]
    }
   ],
   "source": [
    "pump_df.info()"
   ]
  },
  {
   "cell_type": "code",
   "execution_count": 908,
   "id": "f2693131",
   "metadata": {},
   "outputs": [],
   "source": [
    "# uncomment to convert to csv file to map points in arcGIS\n",
    "# pump_df.to_csv('data/pump_vals_lables.csv')"
   ]
  },
  {
   "cell_type": "markdown",
   "id": "1075b623",
   "metadata": {},
   "source": [
    "# 5. Train Test Split"
   ]
  },
  {
   "cell_type": "markdown",
   "id": "4ecf5bce",
   "metadata": {},
   "source": [
    "#### Dataset has proven to be very large, and slow when running more complex models or Grid Searches. Cut down dataset for model testing"
   ]
  },
  {
   "cell_type": "code",
   "execution_count": 909,
   "id": "c8c15592",
   "metadata": {},
   "outputs": [],
   "source": [
    "X = pump_df.drop(['target'], axis=1)\n",
    "y = pump_df.target"
   ]
  },
  {
   "cell_type": "code",
   "execution_count": 910,
   "id": "79ffcc01",
   "metadata": {},
   "outputs": [],
   "source": [
    "X_train, X_test, y_train, y_test = train_test_split(X, y, test_size=0.30, random_state=42)"
   ]
  },
  {
   "cell_type": "markdown",
   "id": "3f58b930",
   "metadata": {},
   "source": [
    "#### One hot encode object type columns in train set"
   ]
  },
  {
   "cell_type": "code",
   "execution_count": 911,
   "id": "c147da50",
   "metadata": {},
   "outputs": [],
   "source": [
    "X_test_clean = ct.transform(X_test)\n"
   ]
  },
  {
   "cell_type": "code",
   "execution_count": 912,
   "id": "0ef22b94",
   "metadata": {},
   "outputs": [],
   "source": [
    "X_train_cat = X_train.select_dtypes('object')\n",
    "\n",
    "ohe = OneHotEncoder(handle_unknown='ignore', sparse=False)\n",
    "\n",
    "dummy = ohe.fit_transform(X_train_cat)\n",
    "dummy_df = pd.DataFrame(dummy, columns=ohe.get_feature_names(), index=X_train_cat.index)\n"
   ]
  },
  {
   "cell_type": "code",
   "execution_count": 913,
   "id": "8ae88828",
   "metadata": {},
   "outputs": [],
   "source": [
    "X_train_nums = X_train.select_dtypes(include=['float64', 'int64'])\n",
    "\n",
    "ss = StandardScaler()\n",
    "scaled = ss.fit_transform(X_train_nums)\n",
    "\n",
    "\n",
    "scaled_df = pd.DataFrame(scaled, index=X_train_nums.index)\n",
    "scaled_df.columns = X_train_nums.columns"
   ]
  },
  {
   "cell_type": "code",
   "execution_count": 914,
   "id": "551c93a4",
   "metadata": {},
   "outputs": [
    {
     "data": {
      "text/html": [
       "<div>\n",
       "<style scoped>\n",
       "    .dataframe tbody tr th:only-of-type {\n",
       "        vertical-align: middle;\n",
       "    }\n",
       "\n",
       "    .dataframe tbody tr th {\n",
       "        vertical-align: top;\n",
       "    }\n",
       "\n",
       "    .dataframe thead th {\n",
       "        text-align: right;\n",
       "    }\n",
       "</style>\n",
       "<table border=\"1\" class=\"dataframe\">\n",
       "  <thead>\n",
       "    <tr style=\"text-align: right;\">\n",
       "      <th></th>\n",
       "      <th>gps_height</th>\n",
       "      <th>longitude</th>\n",
       "      <th>latitude</th>\n",
       "      <th>population</th>\n",
       "      <th>public_meeting</th>\n",
       "      <th>permit</th>\n",
       "      <th>age</th>\n",
       "      <th>age_record</th>\n",
       "      <th>x0_-</th>\n",
       "      <th>x0_0</th>\n",
       "      <th>...</th>\n",
       "      <th>x10_groundwater</th>\n",
       "      <th>x10_surface</th>\n",
       "      <th>x10_unknown</th>\n",
       "      <th>x11_cattle trough</th>\n",
       "      <th>x11_communal standpipe</th>\n",
       "      <th>x11_communal standpipe multiple</th>\n",
       "      <th>x11_dam</th>\n",
       "      <th>x11_hand pump</th>\n",
       "      <th>x11_improved spring</th>\n",
       "      <th>x11_other</th>\n",
       "    </tr>\n",
       "  </thead>\n",
       "  <tbody>\n",
       "    <tr>\n",
       "      <th>43069</th>\n",
       "      <td>1.635537</td>\n",
       "      <td>0.105481</td>\n",
       "      <td>-1.162696</td>\n",
       "      <td>-0.546617</td>\n",
       "      <td>0.307594</td>\n",
       "      <td>0.728339</td>\n",
       "      <td>-1.202387</td>\n",
       "      <td>0.963380</td>\n",
       "      <td>0.0</td>\n",
       "      <td>0.0</td>\n",
       "      <td>...</td>\n",
       "      <td>1.0</td>\n",
       "      <td>0.0</td>\n",
       "      <td>0.0</td>\n",
       "      <td>0.0</td>\n",
       "      <td>1.0</td>\n",
       "      <td>0.0</td>\n",
       "      <td>0.0</td>\n",
       "      <td>0.0</td>\n",
       "      <td>0.0</td>\n",
       "      <td>0.0</td>\n",
       "    </tr>\n",
       "    <tr>\n",
       "      <th>58858</th>\n",
       "      <td>0.059212</td>\n",
       "      <td>-0.549544</td>\n",
       "      <td>0.996545</td>\n",
       "      <td>0.005512</td>\n",
       "      <td>0.307594</td>\n",
       "      <td>-1.372988</td>\n",
       "      <td>-0.011677</td>\n",
       "      <td>0.963380</td>\n",
       "      <td>0.0</td>\n",
       "      <td>0.0</td>\n",
       "      <td>...</td>\n",
       "      <td>1.0</td>\n",
       "      <td>0.0</td>\n",
       "      <td>0.0</td>\n",
       "      <td>0.0</td>\n",
       "      <td>0.0</td>\n",
       "      <td>0.0</td>\n",
       "      <td>0.0</td>\n",
       "      <td>1.0</td>\n",
       "      <td>0.0</td>\n",
       "      <td>0.0</td>\n",
       "    </tr>\n",
       "    <tr>\n",
       "      <th>41707</th>\n",
       "      <td>1.623499</td>\n",
       "      <td>0.177969</td>\n",
       "      <td>0.849083</td>\n",
       "      <td>-0.336137</td>\n",
       "      <td>0.307594</td>\n",
       "      <td>0.728339</td>\n",
       "      <td>-0.805483</td>\n",
       "      <td>-1.125659</td>\n",
       "      <td>0.0</td>\n",
       "      <td>0.0</td>\n",
       "      <td>...</td>\n",
       "      <td>1.0</td>\n",
       "      <td>0.0</td>\n",
       "      <td>0.0</td>\n",
       "      <td>0.0</td>\n",
       "      <td>1.0</td>\n",
       "      <td>0.0</td>\n",
       "      <td>0.0</td>\n",
       "      <td>0.0</td>\n",
       "      <td>0.0</td>\n",
       "      <td>0.0</td>\n",
       "    </tr>\n",
       "    <tr>\n",
       "      <th>30674</th>\n",
       "      <td>0.343432</td>\n",
       "      <td>0.668131</td>\n",
       "      <td>0.272582</td>\n",
       "      <td>-0.649519</td>\n",
       "      <td>0.307594</td>\n",
       "      <td>0.728339</td>\n",
       "      <td>2.171292</td>\n",
       "      <td>0.963380</td>\n",
       "      <td>0.0</td>\n",
       "      <td>0.0</td>\n",
       "      <td>...</td>\n",
       "      <td>1.0</td>\n",
       "      <td>0.0</td>\n",
       "      <td>0.0</td>\n",
       "      <td>0.0</td>\n",
       "      <td>1.0</td>\n",
       "      <td>0.0</td>\n",
       "      <td>0.0</td>\n",
       "      <td>0.0</td>\n",
       "      <td>0.0</td>\n",
       "      <td>0.0</td>\n",
       "    </tr>\n",
       "    <tr>\n",
       "      <th>20944</th>\n",
       "      <td>-1.947848</td>\n",
       "      <td>0.794903</td>\n",
       "      <td>-0.448784</td>\n",
       "      <td>1.782697</td>\n",
       "      <td>0.307594</td>\n",
       "      <td>-1.372988</td>\n",
       "      <td>-1.301613</td>\n",
       "      <td>0.963380</td>\n",
       "      <td>0.0</td>\n",
       "      <td>0.0</td>\n",
       "      <td>...</td>\n",
       "      <td>1.0</td>\n",
       "      <td>0.0</td>\n",
       "      <td>0.0</td>\n",
       "      <td>0.0</td>\n",
       "      <td>1.0</td>\n",
       "      <td>0.0</td>\n",
       "      <td>0.0</td>\n",
       "      <td>0.0</td>\n",
       "      <td>0.0</td>\n",
       "      <td>0.0</td>\n",
       "    </tr>\n",
       "    <tr>\n",
       "      <th>...</th>\n",
       "      <td>...</td>\n",
       "      <td>...</td>\n",
       "      <td>...</td>\n",
       "      <td>...</td>\n",
       "      <td>...</td>\n",
       "      <td>...</td>\n",
       "      <td>...</td>\n",
       "      <td>...</td>\n",
       "      <td>...</td>\n",
       "      <td>...</td>\n",
       "      <td>...</td>\n",
       "      <td>...</td>\n",
       "      <td>...</td>\n",
       "      <td>...</td>\n",
       "      <td>...</td>\n",
       "      <td>...</td>\n",
       "      <td>...</td>\n",
       "      <td>...</td>\n",
       "      <td>...</td>\n",
       "      <td>...</td>\n",
       "      <td>...</td>\n",
       "    </tr>\n",
       "    <tr>\n",
       "      <th>54343</th>\n",
       "      <td>-1.412146</td>\n",
       "      <td>0.346536</td>\n",
       "      <td>-1.041913</td>\n",
       "      <td>-0.055497</td>\n",
       "      <td>0.307594</td>\n",
       "      <td>0.728339</td>\n",
       "      <td>0.186775</td>\n",
       "      <td>0.963380</td>\n",
       "      <td>0.0</td>\n",
       "      <td>0.0</td>\n",
       "      <td>...</td>\n",
       "      <td>0.0</td>\n",
       "      <td>1.0</td>\n",
       "      <td>0.0</td>\n",
       "      <td>0.0</td>\n",
       "      <td>1.0</td>\n",
       "      <td>0.0</td>\n",
       "      <td>0.0</td>\n",
       "      <td>0.0</td>\n",
       "      <td>0.0</td>\n",
       "      <td>0.0</td>\n",
       "    </tr>\n",
       "    <tr>\n",
       "      <th>38158</th>\n",
       "      <td>1.428880</td>\n",
       "      <td>0.064069</td>\n",
       "      <td>-1.380354</td>\n",
       "      <td>-0.570004</td>\n",
       "      <td>0.307594</td>\n",
       "      <td>-1.372988</td>\n",
       "      <td>0.881356</td>\n",
       "      <td>0.963380</td>\n",
       "      <td>0.0</td>\n",
       "      <td>0.0</td>\n",
       "      <td>...</td>\n",
       "      <td>1.0</td>\n",
       "      <td>0.0</td>\n",
       "      <td>0.0</td>\n",
       "      <td>0.0</td>\n",
       "      <td>1.0</td>\n",
       "      <td>0.0</td>\n",
       "      <td>0.0</td>\n",
       "      <td>0.0</td>\n",
       "      <td>0.0</td>\n",
       "      <td>0.0</td>\n",
       "    </tr>\n",
       "    <tr>\n",
       "      <th>860</th>\n",
       "      <td>-2.094314</td>\n",
       "      <td>0.747756</td>\n",
       "      <td>0.099081</td>\n",
       "      <td>1.686812</td>\n",
       "      <td>-3.251043</td>\n",
       "      <td>-1.372988</td>\n",
       "      <td>-0.805483</td>\n",
       "      <td>0.963380</td>\n",
       "      <td>0.0</td>\n",
       "      <td>0.0</td>\n",
       "      <td>...</td>\n",
       "      <td>1.0</td>\n",
       "      <td>0.0</td>\n",
       "      <td>0.0</td>\n",
       "      <td>0.0</td>\n",
       "      <td>0.0</td>\n",
       "      <td>0.0</td>\n",
       "      <td>0.0</td>\n",
       "      <td>0.0</td>\n",
       "      <td>0.0</td>\n",
       "      <td>1.0</td>\n",
       "    </tr>\n",
       "    <tr>\n",
       "      <th>15795</th>\n",
       "      <td>0.059212</td>\n",
       "      <td>0.030994</td>\n",
       "      <td>0.886178</td>\n",
       "      <td>0.005512</td>\n",
       "      <td>0.307594</td>\n",
       "      <td>0.728339</td>\n",
       "      <td>-0.011677</td>\n",
       "      <td>-0.081140</td>\n",
       "      <td>0.0</td>\n",
       "      <td>0.0</td>\n",
       "      <td>...</td>\n",
       "      <td>1.0</td>\n",
       "      <td>0.0</td>\n",
       "      <td>0.0</td>\n",
       "      <td>0.0</td>\n",
       "      <td>0.0</td>\n",
       "      <td>0.0</td>\n",
       "      <td>0.0</td>\n",
       "      <td>1.0</td>\n",
       "      <td>0.0</td>\n",
       "      <td>0.0</td>\n",
       "    </tr>\n",
       "    <tr>\n",
       "      <th>56422</th>\n",
       "      <td>0.519993</td>\n",
       "      <td>0.540319</td>\n",
       "      <td>0.850697</td>\n",
       "      <td>-0.649519</td>\n",
       "      <td>0.307594</td>\n",
       "      <td>0.728339</td>\n",
       "      <td>2.072066</td>\n",
       "      <td>-1.125659</td>\n",
       "      <td>0.0</td>\n",
       "      <td>0.0</td>\n",
       "      <td>...</td>\n",
       "      <td>1.0</td>\n",
       "      <td>0.0</td>\n",
       "      <td>0.0</td>\n",
       "      <td>0.0</td>\n",
       "      <td>0.0</td>\n",
       "      <td>1.0</td>\n",
       "      <td>0.0</td>\n",
       "      <td>0.0</td>\n",
       "      <td>0.0</td>\n",
       "      <td>0.0</td>\n",
       "    </tr>\n",
       "  </tbody>\n",
       "</table>\n",
       "<p>41580 rows × 1927 columns</p>\n",
       "</div>"
      ],
      "text/plain": [
       "       gps_height  longitude  latitude  population  public_meeting    permit  \\\n",
       "43069    1.635537   0.105481 -1.162696   -0.546617        0.307594  0.728339   \n",
       "58858    0.059212  -0.549544  0.996545    0.005512        0.307594 -1.372988   \n",
       "41707    1.623499   0.177969  0.849083   -0.336137        0.307594  0.728339   \n",
       "30674    0.343432   0.668131  0.272582   -0.649519        0.307594  0.728339   \n",
       "20944   -1.947848   0.794903 -0.448784    1.782697        0.307594 -1.372988   \n",
       "...           ...        ...       ...         ...             ...       ...   \n",
       "54343   -1.412146   0.346536 -1.041913   -0.055497        0.307594  0.728339   \n",
       "38158    1.428880   0.064069 -1.380354   -0.570004        0.307594 -1.372988   \n",
       "860     -2.094314   0.747756  0.099081    1.686812       -3.251043 -1.372988   \n",
       "15795    0.059212   0.030994  0.886178    0.005512        0.307594  0.728339   \n",
       "56422    0.519993   0.540319  0.850697   -0.649519        0.307594  0.728339   \n",
       "\n",
       "            age  age_record  x0_-  x0_0  ...  x10_groundwater  x10_surface  \\\n",
       "43069 -1.202387    0.963380   0.0   0.0  ...              1.0          0.0   \n",
       "58858 -0.011677    0.963380   0.0   0.0  ...              1.0          0.0   \n",
       "41707 -0.805483   -1.125659   0.0   0.0  ...              1.0          0.0   \n",
       "30674  2.171292    0.963380   0.0   0.0  ...              1.0          0.0   \n",
       "20944 -1.301613    0.963380   0.0   0.0  ...              1.0          0.0   \n",
       "...         ...         ...   ...   ...  ...              ...          ...   \n",
       "54343  0.186775    0.963380   0.0   0.0  ...              0.0          1.0   \n",
       "38158  0.881356    0.963380   0.0   0.0  ...              1.0          0.0   \n",
       "860   -0.805483    0.963380   0.0   0.0  ...              1.0          0.0   \n",
       "15795 -0.011677   -0.081140   0.0   0.0  ...              1.0          0.0   \n",
       "56422  2.072066   -1.125659   0.0   0.0  ...              1.0          0.0   \n",
       "\n",
       "       x10_unknown  x11_cattle trough  x11_communal standpipe  \\\n",
       "43069          0.0                0.0                     1.0   \n",
       "58858          0.0                0.0                     0.0   \n",
       "41707          0.0                0.0                     1.0   \n",
       "30674          0.0                0.0                     1.0   \n",
       "20944          0.0                0.0                     1.0   \n",
       "...            ...                ...                     ...   \n",
       "54343          0.0                0.0                     1.0   \n",
       "38158          0.0                0.0                     1.0   \n",
       "860            0.0                0.0                     0.0   \n",
       "15795          0.0                0.0                     0.0   \n",
       "56422          0.0                0.0                     0.0   \n",
       "\n",
       "       x11_communal standpipe multiple  x11_dam  x11_hand pump  \\\n",
       "43069                              0.0      0.0            0.0   \n",
       "58858                              0.0      0.0            1.0   \n",
       "41707                              0.0      0.0            0.0   \n",
       "30674                              0.0      0.0            0.0   \n",
       "20944                              0.0      0.0            0.0   \n",
       "...                                ...      ...            ...   \n",
       "54343                              0.0      0.0            0.0   \n",
       "38158                              0.0      0.0            0.0   \n",
       "860                                0.0      0.0            0.0   \n",
       "15795                              0.0      0.0            1.0   \n",
       "56422                              1.0      0.0            0.0   \n",
       "\n",
       "       x11_improved spring  x11_other  \n",
       "43069                  0.0        0.0  \n",
       "58858                  0.0        0.0  \n",
       "41707                  0.0        0.0  \n",
       "30674                  0.0        0.0  \n",
       "20944                  0.0        0.0  \n",
       "...                    ...        ...  \n",
       "54343                  0.0        0.0  \n",
       "38158                  0.0        0.0  \n",
       "860                    0.0        1.0  \n",
       "15795                  0.0        0.0  \n",
       "56422                  0.0        0.0  \n",
       "\n",
       "[41580 rows x 1927 columns]"
      ]
     },
     "execution_count": 914,
     "metadata": {},
     "output_type": "execute_result"
    }
   ],
   "source": [
    "X_train_clean = pd.concat([scaled_df, dummy_df], axis=1)\n",
    "X_train_clean"
   ]
  },
  {
   "cell_type": "markdown",
   "id": "da0a8ae8",
   "metadata": {},
   "source": [
    "#### One Hot Encode object type columns in test set"
   ]
  },
  {
   "cell_type": "code",
   "execution_count": 915,
   "id": "62d56a6c",
   "metadata": {},
   "outputs": [],
   "source": [
    "X_test_cat = X_test.select_dtypes('object')\n",
    "\n",
    "dummy = ohe.transform(X_test_cat)\n",
    "dummy_df = pd.DataFrame(dummy, columns=ohe.get_feature_names(), index=X_test_cat.index)"
   ]
  },
  {
   "cell_type": "code",
   "execution_count": 916,
   "id": "f1036ae3",
   "metadata": {},
   "outputs": [],
   "source": [
    "X_test_nums = X_test.select_dtypes(include=['float64', 'int64'])\n",
    "\n",
    "scaled = ss.transform(X_test_nums)\n",
    "\n",
    "scaled_df = pd.DataFrame(scaled, index=X_test_nums.index)\n",
    "scaled_df.columns = X_test_nums.columns"
   ]
  },
  {
   "cell_type": "code",
   "execution_count": 917,
   "id": "c5948653",
   "metadata": {
    "scrolled": true
   },
   "outputs": [
    {
     "data": {
      "text/html": [
       "<div>\n",
       "<style scoped>\n",
       "    .dataframe tbody tr th:only-of-type {\n",
       "        vertical-align: middle;\n",
       "    }\n",
       "\n",
       "    .dataframe tbody tr th {\n",
       "        vertical-align: top;\n",
       "    }\n",
       "\n",
       "    .dataframe thead th {\n",
       "        text-align: right;\n",
       "    }\n",
       "</style>\n",
       "<table border=\"1\" class=\"dataframe\">\n",
       "  <thead>\n",
       "    <tr style=\"text-align: right;\">\n",
       "      <th></th>\n",
       "      <th>gps_height</th>\n",
       "      <th>longitude</th>\n",
       "      <th>latitude</th>\n",
       "      <th>population</th>\n",
       "      <th>public_meeting</th>\n",
       "      <th>permit</th>\n",
       "      <th>age</th>\n",
       "      <th>age_record</th>\n",
       "      <th>x0_-</th>\n",
       "      <th>x0_0</th>\n",
       "      <th>...</th>\n",
       "      <th>x10_groundwater</th>\n",
       "      <th>x10_surface</th>\n",
       "      <th>x10_unknown</th>\n",
       "      <th>x11_cattle trough</th>\n",
       "      <th>x11_communal standpipe</th>\n",
       "      <th>x11_communal standpipe multiple</th>\n",
       "      <th>x11_dam</th>\n",
       "      <th>x11_hand pump</th>\n",
       "      <th>x11_improved spring</th>\n",
       "      <th>x11_other</th>\n",
       "    </tr>\n",
       "  </thead>\n",
       "  <tbody>\n",
       "    <tr>\n",
       "      <th>2980</th>\n",
       "      <td>0.059212</td>\n",
       "      <td>-0.327697</td>\n",
       "      <td>0.719755</td>\n",
       "      <td>0.005512</td>\n",
       "      <td>0.307594</td>\n",
       "      <td>0.728339</td>\n",
       "      <td>-0.011677</td>\n",
       "      <td>-0.081140</td>\n",
       "      <td>0.0</td>\n",
       "      <td>0.0</td>\n",
       "      <td>...</td>\n",
       "      <td>1.0</td>\n",
       "      <td>0.0</td>\n",
       "      <td>0.0</td>\n",
       "      <td>0.0</td>\n",
       "      <td>0.0</td>\n",
       "      <td>0.0</td>\n",
       "      <td>0.0</td>\n",
       "      <td>0.0</td>\n",
       "      <td>0.0</td>\n",
       "      <td>1.0</td>\n",
       "    </tr>\n",
       "    <tr>\n",
       "      <th>5246</th>\n",
       "      <td>0.059212</td>\n",
       "      <td>-0.197334</td>\n",
       "      <td>0.260975</td>\n",
       "      <td>0.005512</td>\n",
       "      <td>0.307594</td>\n",
       "      <td>0.728339</td>\n",
       "      <td>-0.011677</td>\n",
       "      <td>-0.081140</td>\n",
       "      <td>0.0</td>\n",
       "      <td>0.0</td>\n",
       "      <td>...</td>\n",
       "      <td>1.0</td>\n",
       "      <td>0.0</td>\n",
       "      <td>0.0</td>\n",
       "      <td>0.0</td>\n",
       "      <td>0.0</td>\n",
       "      <td>0.0</td>\n",
       "      <td>0.0</td>\n",
       "      <td>1.0</td>\n",
       "      <td>0.0</td>\n",
       "      <td>0.0</td>\n",
       "    </tr>\n",
       "    <tr>\n",
       "      <th>22659</th>\n",
       "      <td>1.292447</td>\n",
       "      <td>0.211300</td>\n",
       "      <td>0.500095</td>\n",
       "      <td>-0.305734</td>\n",
       "      <td>0.307594</td>\n",
       "      <td>0.728339</td>\n",
       "      <td>-1.103161</td>\n",
       "      <td>-1.125659</td>\n",
       "      <td>0.0</td>\n",
       "      <td>0.0</td>\n",
       "      <td>...</td>\n",
       "      <td>1.0</td>\n",
       "      <td>0.0</td>\n",
       "      <td>0.0</td>\n",
       "      <td>0.0</td>\n",
       "      <td>1.0</td>\n",
       "      <td>0.0</td>\n",
       "      <td>0.0</td>\n",
       "      <td>0.0</td>\n",
       "      <td>0.0</td>\n",
       "      <td>0.0</td>\n",
       "    </tr>\n",
       "    <tr>\n",
       "      <th>39888</th>\n",
       "      <td>0.059212</td>\n",
       "      <td>-0.149936</td>\n",
       "      <td>-1.138742</td>\n",
       "      <td>0.005512</td>\n",
       "      <td>-3.251043</td>\n",
       "      <td>-1.372988</td>\n",
       "      <td>-0.011677</td>\n",
       "      <td>0.963380</td>\n",
       "      <td>0.0</td>\n",
       "      <td>0.0</td>\n",
       "      <td>...</td>\n",
       "      <td>1.0</td>\n",
       "      <td>0.0</td>\n",
       "      <td>0.0</td>\n",
       "      <td>0.0</td>\n",
       "      <td>0.0</td>\n",
       "      <td>0.0</td>\n",
       "      <td>0.0</td>\n",
       "      <td>1.0</td>\n",
       "      <td>0.0</td>\n",
       "      <td>0.0</td>\n",
       "    </tr>\n",
       "    <tr>\n",
       "      <th>13361</th>\n",
       "      <td>0.156839</td>\n",
       "      <td>0.015681</td>\n",
       "      <td>0.435974</td>\n",
       "      <td>-0.102270</td>\n",
       "      <td>0.307594</td>\n",
       "      <td>0.728339</td>\n",
       "      <td>-1.400839</td>\n",
       "      <td>-1.125659</td>\n",
       "      <td>0.0</td>\n",
       "      <td>0.0</td>\n",
       "      <td>...</td>\n",
       "      <td>1.0</td>\n",
       "      <td>0.0</td>\n",
       "      <td>0.0</td>\n",
       "      <td>0.0</td>\n",
       "      <td>0.0</td>\n",
       "      <td>1.0</td>\n",
       "      <td>0.0</td>\n",
       "      <td>0.0</td>\n",
       "      <td>0.0</td>\n",
       "      <td>0.0</td>\n",
       "    </tr>\n",
       "    <tr>\n",
       "      <th>...</th>\n",
       "      <td>...</td>\n",
       "      <td>...</td>\n",
       "      <td>...</td>\n",
       "      <td>...</td>\n",
       "      <td>...</td>\n",
       "      <td>...</td>\n",
       "      <td>...</td>\n",
       "      <td>...</td>\n",
       "      <td>...</td>\n",
       "      <td>...</td>\n",
       "      <td>...</td>\n",
       "      <td>...</td>\n",
       "      <td>...</td>\n",
       "      <td>...</td>\n",
       "      <td>...</td>\n",
       "      <td>...</td>\n",
       "      <td>...</td>\n",
       "      <td>...</td>\n",
       "      <td>...</td>\n",
       "      <td>...</td>\n",
       "      <td>...</td>\n",
       "    </tr>\n",
       "    <tr>\n",
       "      <th>13160</th>\n",
       "      <td>1.304485</td>\n",
       "      <td>0.270061</td>\n",
       "      <td>0.836932</td>\n",
       "      <td>-0.184124</td>\n",
       "      <td>0.307594</td>\n",
       "      <td>0.728339</td>\n",
       "      <td>-1.202387</td>\n",
       "      <td>-1.125659</td>\n",
       "      <td>0.0</td>\n",
       "      <td>0.0</td>\n",
       "      <td>...</td>\n",
       "      <td>0.0</td>\n",
       "      <td>1.0</td>\n",
       "      <td>0.0</td>\n",
       "      <td>0.0</td>\n",
       "      <td>1.0</td>\n",
       "      <td>0.0</td>\n",
       "      <td>0.0</td>\n",
       "      <td>0.0</td>\n",
       "      <td>0.0</td>\n",
       "      <td>0.0</td>\n",
       "    </tr>\n",
       "    <tr>\n",
       "      <th>3852</th>\n",
       "      <td>0.059212</td>\n",
       "      <td>-0.134868</td>\n",
       "      <td>0.319328</td>\n",
       "      <td>0.005512</td>\n",
       "      <td>-3.251043</td>\n",
       "      <td>-1.372988</td>\n",
       "      <td>-0.011677</td>\n",
       "      <td>-1.125659</td>\n",
       "      <td>0.0</td>\n",
       "      <td>0.0</td>\n",
       "      <td>...</td>\n",
       "      <td>1.0</td>\n",
       "      <td>0.0</td>\n",
       "      <td>0.0</td>\n",
       "      <td>0.0</td>\n",
       "      <td>1.0</td>\n",
       "      <td>0.0</td>\n",
       "      <td>0.0</td>\n",
       "      <td>0.0</td>\n",
       "      <td>0.0</td>\n",
       "      <td>0.0</td>\n",
       "    </tr>\n",
       "    <tr>\n",
       "      <th>28598</th>\n",
       "      <td>2.012735</td>\n",
       "      <td>0.089798</td>\n",
       "      <td>-1.335730</td>\n",
       "      <td>-0.581697</td>\n",
       "      <td>0.307594</td>\n",
       "      <td>0.728339</td>\n",
       "      <td>-1.003935</td>\n",
       "      <td>0.963380</td>\n",
       "      <td>0.0</td>\n",
       "      <td>0.0</td>\n",
       "      <td>...</td>\n",
       "      <td>1.0</td>\n",
       "      <td>0.0</td>\n",
       "      <td>0.0</td>\n",
       "      <td>0.0</td>\n",
       "      <td>1.0</td>\n",
       "      <td>0.0</td>\n",
       "      <td>0.0</td>\n",
       "      <td>0.0</td>\n",
       "      <td>0.0</td>\n",
       "      <td>0.0</td>\n",
       "    </tr>\n",
       "    <tr>\n",
       "      <th>43736</th>\n",
       "      <td>0.546075</td>\n",
       "      <td>-0.626893</td>\n",
       "      <td>0.338635</td>\n",
       "      <td>0.868277</td>\n",
       "      <td>0.307594</td>\n",
       "      <td>0.728339</td>\n",
       "      <td>-0.706258</td>\n",
       "      <td>-1.125659</td>\n",
       "      <td>0.0</td>\n",
       "      <td>0.0</td>\n",
       "      <td>...</td>\n",
       "      <td>0.0</td>\n",
       "      <td>1.0</td>\n",
       "      <td>0.0</td>\n",
       "      <td>0.0</td>\n",
       "      <td>1.0</td>\n",
       "      <td>0.0</td>\n",
       "      <td>0.0</td>\n",
       "      <td>0.0</td>\n",
       "      <td>0.0</td>\n",
       "      <td>0.0</td>\n",
       "    </tr>\n",
       "    <tr>\n",
       "      <th>41923</th>\n",
       "      <td>0.059212</td>\n",
       "      <td>-0.108594</td>\n",
       "      <td>0.943665</td>\n",
       "      <td>0.005512</td>\n",
       "      <td>0.307594</td>\n",
       "      <td>0.728339</td>\n",
       "      <td>-0.011677</td>\n",
       "      <td>0.963380</td>\n",
       "      <td>0.0</td>\n",
       "      <td>0.0</td>\n",
       "      <td>...</td>\n",
       "      <td>1.0</td>\n",
       "      <td>0.0</td>\n",
       "      <td>0.0</td>\n",
       "      <td>0.0</td>\n",
       "      <td>0.0</td>\n",
       "      <td>1.0</td>\n",
       "      <td>0.0</td>\n",
       "      <td>0.0</td>\n",
       "      <td>0.0</td>\n",
       "      <td>0.0</td>\n",
       "    </tr>\n",
       "  </tbody>\n",
       "</table>\n",
       "<p>17820 rows × 1927 columns</p>\n",
       "</div>"
      ],
      "text/plain": [
       "       gps_height  longitude  latitude  population  public_meeting    permit  \\\n",
       "2980     0.059212  -0.327697  0.719755    0.005512        0.307594  0.728339   \n",
       "5246     0.059212  -0.197334  0.260975    0.005512        0.307594  0.728339   \n",
       "22659    1.292447   0.211300  0.500095   -0.305734        0.307594  0.728339   \n",
       "39888    0.059212  -0.149936 -1.138742    0.005512       -3.251043 -1.372988   \n",
       "13361    0.156839   0.015681  0.435974   -0.102270        0.307594  0.728339   \n",
       "...           ...        ...       ...         ...             ...       ...   \n",
       "13160    1.304485   0.270061  0.836932   -0.184124        0.307594  0.728339   \n",
       "3852     0.059212  -0.134868  0.319328    0.005512       -3.251043 -1.372988   \n",
       "28598    2.012735   0.089798 -1.335730   -0.581697        0.307594  0.728339   \n",
       "43736    0.546075  -0.626893  0.338635    0.868277        0.307594  0.728339   \n",
       "41923    0.059212  -0.108594  0.943665    0.005512        0.307594  0.728339   \n",
       "\n",
       "            age  age_record  x0_-  x0_0  ...  x10_groundwater  x10_surface  \\\n",
       "2980  -0.011677   -0.081140   0.0   0.0  ...              1.0          0.0   \n",
       "5246  -0.011677   -0.081140   0.0   0.0  ...              1.0          0.0   \n",
       "22659 -1.103161   -1.125659   0.0   0.0  ...              1.0          0.0   \n",
       "39888 -0.011677    0.963380   0.0   0.0  ...              1.0          0.0   \n",
       "13361 -1.400839   -1.125659   0.0   0.0  ...              1.0          0.0   \n",
       "...         ...         ...   ...   ...  ...              ...          ...   \n",
       "13160 -1.202387   -1.125659   0.0   0.0  ...              0.0          1.0   \n",
       "3852  -0.011677   -1.125659   0.0   0.0  ...              1.0          0.0   \n",
       "28598 -1.003935    0.963380   0.0   0.0  ...              1.0          0.0   \n",
       "43736 -0.706258   -1.125659   0.0   0.0  ...              0.0          1.0   \n",
       "41923 -0.011677    0.963380   0.0   0.0  ...              1.0          0.0   \n",
       "\n",
       "       x10_unknown  x11_cattle trough  x11_communal standpipe  \\\n",
       "2980           0.0                0.0                     0.0   \n",
       "5246           0.0                0.0                     0.0   \n",
       "22659          0.0                0.0                     1.0   \n",
       "39888          0.0                0.0                     0.0   \n",
       "13361          0.0                0.0                     0.0   \n",
       "...            ...                ...                     ...   \n",
       "13160          0.0                0.0                     1.0   \n",
       "3852           0.0                0.0                     1.0   \n",
       "28598          0.0                0.0                     1.0   \n",
       "43736          0.0                0.0                     1.0   \n",
       "41923          0.0                0.0                     0.0   \n",
       "\n",
       "       x11_communal standpipe multiple  x11_dam  x11_hand pump  \\\n",
       "2980                               0.0      0.0            0.0   \n",
       "5246                               0.0      0.0            1.0   \n",
       "22659                              0.0      0.0            0.0   \n",
       "39888                              0.0      0.0            1.0   \n",
       "13361                              1.0      0.0            0.0   \n",
       "...                                ...      ...            ...   \n",
       "13160                              0.0      0.0            0.0   \n",
       "3852                               0.0      0.0            0.0   \n",
       "28598                              0.0      0.0            0.0   \n",
       "43736                              0.0      0.0            0.0   \n",
       "41923                              1.0      0.0            0.0   \n",
       "\n",
       "       x11_improved spring  x11_other  \n",
       "2980                   0.0        1.0  \n",
       "5246                   0.0        0.0  \n",
       "22659                  0.0        0.0  \n",
       "39888                  0.0        0.0  \n",
       "13361                  0.0        0.0  \n",
       "...                    ...        ...  \n",
       "13160                  0.0        0.0  \n",
       "3852                   0.0        0.0  \n",
       "28598                  0.0        0.0  \n",
       "43736                  0.0        0.0  \n",
       "41923                  0.0        0.0  \n",
       "\n",
       "[17820 rows x 1927 columns]"
      ]
     },
     "execution_count": 917,
     "metadata": {},
     "output_type": "execute_result"
    }
   ],
   "source": [
    "X_test_clean = pd.concat([scaled_df, dummy_df], axis=1)\n",
    "X_test_clean"
   ]
  },
  {
   "cell_type": "code",
   "execution_count": 918,
   "id": "bea2a47f",
   "metadata": {},
   "outputs": [],
   "source": [
    "# XGBoost classifier does not allow certain symbols in column names, the following code is to replace them with '_'\n",
    "import re\n",
    "\n",
    "regex = re.compile(r\"\\[|\\]|<\", re.IGNORECASE)\n",
    "\n",
    "X_train_clean.columns = [regex.sub(\"_\", col) if any(x in str(col) for x in set(('[', ']', '<'))) else col for col in X_train_clean.columns.values]\n",
    "X_test_clean.columns = [regex.sub(\"_\", col) if any(x in str(col) for x in set(('[', ']', '<'))) else col for col in X_test_clean.columns.values]\n"
   ]
  },
  {
   "cell_type": "markdown",
   "id": "1b85fd75",
   "metadata": {},
   "source": [
    "# 6. Modeling"
   ]
  },
  {
   "cell_type": "markdown",
   "id": "7fa6d92b",
   "metadata": {},
   "source": [
    "### Logistic Regression: Use a baseline model as a starting point"
   ]
  },
  {
   "cell_type": "code",
   "execution_count": 919,
   "id": "f2222bca",
   "metadata": {
    "scrolled": true
   },
   "outputs": [
    {
     "data": {
      "text/plain": [
       "2    0.541967\n",
       "0    0.385305\n",
       "1    0.072727\n",
       "Name: target, dtype: float64"
      ]
     },
     "execution_count": 919,
     "metadata": {},
     "output_type": "execute_result"
    }
   ],
   "source": [
    "y_train.value_counts(normalize=True)"
   ]
  },
  {
   "cell_type": "code",
   "execution_count": 920,
   "id": "24831918",
   "metadata": {
    "scrolled": true
   },
   "outputs": [
    {
     "data": {
      "text/plain": [
       "(0.7686147186147186, 0.7613355780022447)"
      ]
     },
     "execution_count": 920,
     "metadata": {},
     "output_type": "execute_result"
    }
   ],
   "source": [
    "logreg = LogisticRegression(max_iter=10000, random_state=42)\n",
    "\n",
    "logreg.fit(X_train_clean, y_train)\n",
    "logreg.score(X_train_clean, y_train), logreg.score(X_test_clean, y_test)"
   ]
  },
  {
   "cell_type": "markdown",
   "id": "156c13b0",
   "metadata": {},
   "source": [
    "#### As we can see, Logistic Regression has a 76% accuracy for our baseline. That's pretty good! But lets see what that breakdown looks like"
   ]
  },
  {
   "cell_type": "code",
   "execution_count": 921,
   "id": "0d06affa",
   "metadata": {
    "scrolled": true
   },
   "outputs": [
    {
     "data": {
      "image/png": "[encoded data removed]",
      "text/plain": [
       "<Figure size 432x288 with 2 Axes>"
      ]
     },
     "metadata": {
      "needs_background": "light"
     },
     "output_type": "display_data"
    }
   ],
   "source": [
    "plot_confusion_matrix(logreg, X_test_clean, y_test);\n",
    "plt.grid(False)"
   ]
  },
  {
   "cell_type": "markdown",
   "id": "9e225d6d",
   "metadata": {},
   "source": [
    "#### Looking closer we can see our model did a good job prodicting 2, a mediocre job at predicting 0, and a pretty poor job at predicting 1. Since we are trying to avoid false positives, this model needs to improve significantly Lets take a look at some other models. "
   ]
  },
  {
   "cell_type": "markdown",
   "id": "80b67d8a",
   "metadata": {},
   "source": [
    "### Random Forset: Test out a model that handles large datasets well"
   ]
  },
  {
   "cell_type": "code",
   "execution_count": 922,
   "id": "eeb27534",
   "metadata": {},
   "outputs": [
    {
     "data": {
      "text/plain": [
       "(0.9957431457431457, 0.7990460157126824)"
      ]
     },
     "execution_count": 922,
     "metadata": {},
     "output_type": "execute_result"
    }
   ],
   "source": [
    "rfc = RandomForestClassifier(random_state=42)\n",
    "rfc.fit(X_train_clean, y_train)\n",
    "\n",
    "rfc.score(X_train_clean, y_train), rfc.score(X_test_clean, y_test)"
   ]
  },
  {
   "cell_type": "code",
   "execution_count": 923,
   "id": "ef9bff8d",
   "metadata": {
    "scrolled": false
   },
   "outputs": [
    {
     "data": {
      "image/png": "[encoded data removed]",
      "text/plain": [
       "<Figure size 432x288 with 2 Axes>"
      ]
     },
     "metadata": {
      "needs_background": "light"
     },
     "output_type": "display_data"
    }
   ],
   "source": [
    "plot_confusion_matrix(rfc, X_test_clean, y_test);\n",
    "plt.grid(False)"
   ]
  },
  {
   "cell_type": "markdown",
   "id": "55142ba1",
   "metadata": {},
   "source": [
    "#### So far, using a decision tree seems to be a big improvement in score and in the confusion matrix. Let's tune our hyperparameters now and use Grid Search to find our best fitting parameters"
   ]
  },
  {
   "cell_type": "code",
   "execution_count": 924,
   "id": "768bbccb",
   "metadata": {},
   "outputs": [],
   "source": [
    "rfc_params = {'criterion': ['gini', 'entropy'],\n",
    "              'min_samples_leaf': [1, 5, 10],\n",
    "              'n_estimators': [100, 500, 1000],\n",
    "              'max_depth': [5, 15, 30]}\n",
    "              "
   ]
  },
  {
   "cell_type": "code",
   "execution_count": 925,
   "id": "c9f04df9",
   "metadata": {},
   "outputs": [
    {
     "name": "stdout",
     "output_type": "stream",
     "text": [
      "(0.9904761904761905, 0.7688888888888888)\n"
     ]
    }
   ],
   "source": [
    "# Uncomment to find best parameters - commented out for efficiency\n",
    "\n",
    "# rfc_gs = GridSearchCV(estimator=rfc, param_grid=rfc_params, cv=5)\n",
    "\n",
    "# rfc_gs.fit(X_train_clean, y_train)\n",
    "# rfc_gs.score(X_train_clean, y_train), rfc_gs.score(X_test_clean, y_test)\n",
    "print((0.9904761904761905, 0.7688888888888888))"
   ]
  },
  {
   "cell_type": "code",
   "execution_count": 926,
   "id": "1da138d4",
   "metadata": {
    "scrolled": false
   },
   "outputs": [
    {
     "name": "stdout",
     "output_type": "stream",
     "text": [
      "{'criterion': 'entropy', 'max_depth': 30, 'min_samples_leaf': 1, 'n_estimators': 1000}\n"
     ]
    }
   ],
   "source": [
    "# best_parameters = rfc_gs.best_params_\n",
    "# best_parameters\n",
    "print({'criterion': 'entropy',\n",
    " 'max_depth': 30,\n",
    " 'min_samples_leaf': 1,\n",
    " 'n_estimators': 1000})"
   ]
  },
  {
   "cell_type": "markdown",
   "id": "68057fbb",
   "metadata": {},
   "source": [
    "#### Our grid search has provided us with optimal hyperparameters. Let's re-fit our model using these parameters"
   ]
  },
  {
   "cell_type": "code",
   "execution_count": 927,
   "id": "652cd2e7",
   "metadata": {},
   "outputs": [
    {
     "data": {
      "text/plain": [
       "(0.946007696007696, 0.8062850729517396)"
      ]
     },
     "execution_count": 927,
     "metadata": {},
     "output_type": "execute_result"
    }
   ],
   "source": [
    "rfc_best = RandomForestClassifier(criterion='entropy', max_depth=30, \\\n",
    "                                  min_samples_leaf=1, n_estimators=100, random_state=42)\n",
    "\n",
    "rfc_best.fit(X_train_clean, y_train)\n",
    "rfc_best.score(X_train_clean, y_train), rfc_best.score(X_test_clean, y_test)"
   ]
  },
  {
   "cell_type": "code",
   "execution_count": 928,
   "id": "2fe80096",
   "metadata": {
    "scrolled": false
   },
   "outputs": [
    {
     "data": {
      "image/png": "[encoded data removed]",
      "text/plain": [
       "<Figure size 432x288 with 2 Axes>"
      ]
     },
     "metadata": {
      "needs_background": "light"
     },
     "output_type": "display_data"
    }
   ],
   "source": [
    "plot_confusion_matrix(rfc_best, X_test_clean, y_test);\n",
    "plt.grid(False)"
   ]
  },
  {
   "cell_type": "markdown",
   "id": "a7319ee2",
   "metadata": {},
   "source": [
    "#### We have a slight imbalance in our datasets (specifically with 1: \"Functional Needs Repair\") so lets use SMOTE to fix some of that imbalance and see if we can improve our false positives!"
   ]
  },
  {
   "cell_type": "code",
   "execution_count": 929,
   "id": "76661161",
   "metadata": {},
   "outputs": [
    {
     "data": {
      "text/plain": [
       "0    22535\n",
       "2    22535\n",
       "1    22535\n",
       "Name: target, dtype: int64"
      ]
     },
     "execution_count": 929,
     "metadata": {},
     "output_type": "execute_result"
    }
   ],
   "source": [
    "sm = SMOTE(random_state=42)\n",
    "X_smote, y_smote = sm.fit_resample(X_train_clean, y_train)\n",
    "y_smote.value_counts()"
   ]
  },
  {
   "cell_type": "code",
   "execution_count": 930,
   "id": "36c4e296",
   "metadata": {},
   "outputs": [
    {
     "data": {
      "text/plain": [
       "(0.9623252717994231, 0.7823793490460157)"
      ]
     },
     "execution_count": 930,
     "metadata": {},
     "output_type": "execute_result"
    }
   ],
   "source": [
    "rfc_best.fit(X_smote, y_smote)\n",
    "rfc_best.score(X_smote, y_smote), rfc_best.score(X_test_clean, y_test)"
   ]
  },
  {
   "cell_type": "code",
   "execution_count": 931,
   "id": "d7d80772",
   "metadata": {
    "scrolled": true
   },
   "outputs": [
    {
     "data": {
      "image/png": "[encoded data removed]",
      "text/plain": [
       "<Figure size 432x288 with 2 Axes>"
      ]
     },
     "metadata": {
      "needs_background": "light"
     },
     "output_type": "display_data"
    }
   ],
   "source": [
    "plot_confusion_matrix(rfc_best, X_test_clean, y_test);\n",
    "plt.grid(False)"
   ]
  },
  {
   "cell_type": "markdown",
   "id": "fcfa533c",
   "metadata": {},
   "source": [
    "#### While our overall score might have decreased, if you look at the confusion matrix we can see that we have actually improved our chances of accurately predicting Non-Functional and Functional-Needs Repair pumps. Therefore we will consider this model to actually be an improvement"
   ]
  },
  {
   "cell_type": "markdown",
   "id": "ff22fdbb",
   "metadata": {},
   "source": [
    "### XGBoost: We know that XGBoost is one of the most powerful models, so let's see how well it performs on our data!"
   ]
  },
  {
   "cell_type": "code",
   "execution_count": 932,
   "id": "6a1a2889",
   "metadata": {},
   "outputs": [
    {
     "data": {
      "text/plain": [
       "(0.8151515151515152, 0.7887205387205387)"
      ]
     },
     "execution_count": 932,
     "metadata": {},
     "output_type": "execute_result"
    }
   ],
   "source": [
    "clf = XGBClassifier()\n",
    "\n",
    "clf.fit(X_train_clean, y_train)\n",
    "clf.score(X_train_clean, y_train), clf.score(X_test_clean, y_test)"
   ]
  },
  {
   "cell_type": "code",
   "execution_count": 933,
   "id": "b1c1b565",
   "metadata": {
    "scrolled": true
   },
   "outputs": [
    {
     "data": {
      "image/png": "[encoded data removed]",
      "text/plain": [
       "<Figure size 432x288 with 2 Axes>"
      ]
     },
     "metadata": {
      "needs_background": "light"
     },
     "output_type": "display_data"
    }
   ],
   "source": [
    "plot_confusion_matrix(clf, X_test_clean, y_test);\n",
    "plt.grid(False)"
   ]
  },
  {
   "cell_type": "markdown",
   "id": "c18f06db",
   "metadata": {},
   "source": [
    "#### So far, without any parameter tuning, this model performs slightly worse than Random Forest. Let's see how it does after we use SMOTE and try some hyperparameter tuning"
   ]
  },
  {
   "cell_type": "code",
   "execution_count": 934,
   "id": "530c610c",
   "metadata": {},
   "outputs": [],
   "source": [
    "clf_params = {'max_depth': [5, 10, 15],\n",
    "    'n_estimators': [100, 150],\n",
    "    'learning_rate': [0.2, 0.3]}"
   ]
  },
  {
   "cell_type": "code",
   "execution_count": 935,
   "id": "4594ed0b",
   "metadata": {},
   "outputs": [
    {
     "name": "stdout",
     "output_type": "stream",
     "text": [
      "(0.99026295842808, 0.7408888888888889)\n"
     ]
    }
   ],
   "source": [
    "# clf_gs = GridSearchCV(estimator=clf, param_grid=clf_params, cv=5)\n",
    "\n",
    "# clf_gs.fit(X_smote, y_smote)\n",
    "# clf_gs.score(X_smote, y_smote), clf_gs.score(X_test_clean, y_test)\n",
    "print((0.99026295842808, 0.7408888888888889))"
   ]
  },
  {
   "cell_type": "code",
   "execution_count": 936,
   "id": "7dfca654",
   "metadata": {},
   "outputs": [
    {
     "name": "stdout",
     "output_type": "stream",
     "text": [
      "{'learning_rate': 0.2, 'max_depth': 15, 'n_estimators': 100}\n"
     ]
    }
   ],
   "source": [
    "# best_parameters = clf_gs.best_params_\n",
    "# best_parameters\n",
    "print({'learning_rate': 0.2, 'max_depth': 15, 'n_estimators': 100})"
   ]
  },
  {
   "cell_type": "markdown",
   "id": "bdd775aa",
   "metadata": {},
   "source": [
    "#### Our grid search found the optimal hyperparameters for out model. Let's plug these back into our final XGBoost model"
   ]
  },
  {
   "cell_type": "code",
   "execution_count": 937,
   "id": "ce793f88",
   "metadata": {},
   "outputs": [
    {
     "data": {
      "text/plain": [
       "(0.9452407366319059, 0.7862514029180696)"
      ]
     },
     "execution_count": 937,
     "metadata": {},
     "output_type": "execute_result"
    }
   ],
   "source": [
    "clf_best = XGBClassifier(learning_rate=0.2, max_depth=15, n_estimators=100)\n",
    "\n",
    "clf_best.fit(X_smote, y_smote)\n",
    "clf_best.score(X_smote, y_smote), clf_best.score(X_test_clean, y_test)"
   ]
  },
  {
   "cell_type": "code",
   "execution_count": 938,
   "id": "e9e593e1",
   "metadata": {
    "scrolled": true
   },
   "outputs": [
    {
     "data": {
      "image/png": "[encoded data removed]",
      "text/plain": [
       "<Figure size 432x288 with 2 Axes>"
      ]
     },
     "metadata": {
      "needs_background": "light"
     },
     "output_type": "display_data"
    }
   ],
   "source": [
    "plot_confusion_matrix(clf_best, X_test_clean, y_test);\n",
    "plt.grid(False)"
   ]
  },
  {
   "cell_type": "markdown",
   "id": "fdf99f2e",
   "metadata": {},
   "source": [
    "#### This model provides us with our best prediction of Non-Fuctional and Functional-Needs Repair pipes, therefore we will consider this to be our final model."
   ]
  },
  {
   "cell_type": "markdown",
   "id": "c7a547c1",
   "metadata": {},
   "source": [
    "### Lets look further at the metrics for each of our models to find the model thats best fit for our business requirements"
   ]
  },
  {
   "cell_type": "code",
   "execution_count": 939,
   "id": "a8332de1",
   "metadata": {
    "scrolled": false
   },
   "outputs": [
    {
     "name": "stdout",
     "output_type": "stream",
     "text": [
      "Model: LogisticRegression(max_iter=10000, random_state=42) \n",
      "--------------------\n",
      "Model Score: 0.65\n",
      "ROC AUC Score: 0.89\n",
      "Recall Score: 0.65\n",
      "Precision Score: 0.76\n",
      "F1 Score: 0.68\n",
      "Classification Report: \n",
      "              precision    recall  f1-score   support\n",
      "\n",
      "           0       0.79      0.66      0.72      6803\n",
      "           1       0.20      0.70      0.31      1293\n",
      "           2       0.80      0.63      0.71      9724\n",
      "\n",
      "    accuracy                           0.65     17820\n",
      "   macro avg       0.60      0.66      0.58     17820\n",
      "weighted avg       0.76      0.65      0.68     17820\n",
      "\n",
      "Model: RandomForestClassifier(criterion='entropy', max_depth=30, random_state=42) \n",
      "--------------------\n",
      "Model Score: 0.78\n",
      "ROC AUC Score: 0.89\n",
      "Recall Score: 0.78\n",
      "Precision Score: 0.8\n",
      "F1 Score: 0.79\n",
      "Classification Report: \n",
      "              precision    recall  f1-score   support\n",
      "\n",
      "           0       0.84      0.77      0.81      6803\n",
      "           1       0.36      0.55      0.44      1293\n",
      "           2       0.83      0.82      0.83      9724\n",
      "\n",
      "    accuracy                           0.78     17820\n",
      "   macro avg       0.68      0.71      0.69     17820\n",
      "weighted avg       0.80      0.78      0.79     17820\n",
      "\n",
      "Model: XGBClassifier(base_score=0.5, booster='gbtree', colsample_bylevel=1,\n",
      "              colsample_bynode=1, colsample_bytree=1, gamma=0, gpu_id=-1,\n",
      "              importance_type='gain', interaction_constraints='',\n",
      "              learning_rate=0.2, max_delta_step=0, max_depth=15,\n",
      "              min_child_weight=1, missing=nan, monotone_constraints='()',\n",
      "              n_estimators=100, n_jobs=0, num_parallel_tree=1,\n",
      "              objective='multi:softprob', random_state=0, reg_alpha=0,\n",
      "              reg_lambda=1, scale_pos_weight=None, subsample=1,\n",
      "              tree_method='exact', validate_parameters=1, verbosity=None) \n",
      "--------------------\n",
      "Model Score: 0.79\n",
      "ROC AUC Score: 0.89\n",
      "Recall Score: 0.79\n",
      "Precision Score: 0.8\n",
      "F1 Score: 0.79\n",
      "Classification Report: \n",
      "              precision    recall  f1-score   support\n",
      "\n",
      "           0       0.84      0.77      0.80      6803\n",
      "           1       0.38      0.49      0.43      1293\n",
      "           2       0.82      0.84      0.83      9724\n",
      "\n",
      "    accuracy                           0.79     17820\n",
      "   macro avg       0.68      0.70      0.69     17820\n",
      "weighted avg       0.80      0.79      0.79     17820\n",
      "\n"
     ]
    }
   ],
   "source": [
    "def evaluate_model(model):\n",
    "    model_pipe = Pipe(steps=[('smote', SMOTE(random_state=42)),\n",
    "                             ('model', model)])\n",
    "        \n",
    "    model_pipe.fit(X_train_clean, y_train)\n",
    "    y_pred = model.predict(X_test_clean)\n",
    "    \n",
    "    print(f\"Model: {model} \")\n",
    "    print(\"--------------------\")\n",
    "    print(f\"Model Score: {round(model_pipe.score(X_test_clean, y_test),2)}\")\n",
    "    print(f\"ROC AUC Score: {round(roc_auc_score(y_test, clf.predict_proba(X_test_clean), multi_class='ovr'), 2)}\")\n",
    "    \n",
    "    print(f\"Recall Score: {round(recall_score(y_test, y_pred, average='weighted'), 2)}\")\n",
    "    print(f\"Precision Score: {round(precision_score(y_test, y_pred, average='weighted'), 2)}\")\n",
    "    print(f\"F1 Score: {round(f1_score(y_test, y_pred, average='weighted'), 2)}\")\n",
    "    \n",
    "    print(f\"Classification Report: \\n{classification_report(y_test, y_pred, digits=2)}\")\n",
    "    return model_pipe\n",
    "\n",
    "models = [LogisticRegression(max_iter=10000, random_state=42),\n",
    "          RandomForestClassifier(criterion='entropy', max_depth=30,min_samples_leaf=1, n_estimators=100, random_state=42), \n",
    "          XGBClassifier(learning_rate=0.2, max_depth=15, n_estimators=100)]\n",
    "    \n",
    "for model in models:\n",
    "    evaluate_model(model)\n",
    "    \n"
   ]
  },
  {
   "cell_type": "markdown",
   "id": "a5d44972",
   "metadata": {},
   "source": [
    "# 7. Evaluation"
   ]
  },
  {
   "cell_type": "markdown",
   "id": "ac0e6d12",
   "metadata": {},
   "source": [
    "### Looking at the Classification Reports and different Scores for each model, it seems as though XGBoost and Random Forest have very close results - Random Forest Classifier does a better job at predicting 1 (Functional Needs Repair) but overall XGBoost has just slightly better overall scores. Either one would be an acceptable model\n",
    "\n",
    "### I will choose Random Forest as the best model. It performed faster than XGBoost which is important for such a large dataset like this, but also it had less False Positive Predictions, which is what we're prioritizing tring to reduce. "
   ]
  },
  {
   "cell_type": "code",
   "execution_count": 940,
   "id": "86d4c3da",
   "metadata": {},
   "outputs": [],
   "source": [
    "rf = RandomForestClassifier(criterion='entropy', max_depth=30,min_samples_leaf=1, n_estimators=100, random_state=42)"
   ]
  },
  {
   "cell_type": "code",
   "execution_count": 941,
   "id": "ecde2ddb",
   "metadata": {
    "scrolled": true
   },
   "outputs": [
    {
     "name": "stdout",
     "output_type": "stream",
     "text": [
      "Model: RandomForestClassifier(criterion='entropy', max_depth=30, random_state=42) \n",
      "--------------------\n",
      "Model Score: 0.78\n",
      "ROC AUC Score: 0.89\n",
      "Recall Score: 0.78\n",
      "Precision Score: 0.8\n",
      "F1 Score: 0.79\n",
      "Classification Report: \n",
      "              precision    recall  f1-score   support\n",
      "\n",
      "           0       0.84      0.77      0.81      6803\n",
      "           1       0.36      0.55      0.44      1293\n",
      "           2       0.83      0.82      0.83      9724\n",
      "\n",
      "    accuracy                           0.78     17820\n",
      "   macro avg       0.68      0.71      0.69     17820\n",
      "weighted avg       0.80      0.78      0.79     17820\n",
      "\n"
     ]
    }
   ],
   "source": [
    "model = evaluate_model(rf)"
   ]
  },
  {
   "cell_type": "markdown",
   "id": "30e2a17c",
   "metadata": {},
   "source": [
    "#### Visualizations for our model"
   ]
  },
  {
   "cell_type": "code",
   "execution_count": 953,
   "id": "6a5973fe",
   "metadata": {},
   "outputs": [
    {
     "data": {
      "image/png": "[encoded data removed]",
      "text/plain": [
       "<Figure size 500x500 with 1 Axes>"
      ]
     },
     "metadata": {
      "needs_background": "light"
     },
     "output_type": "display_data"
    },
    {
     "data": {
      "text/plain": [
       "ConfusionMatrix(ax=<AxesSubplot:title={'center':'RandomForestClassifier Confusion Matrix'}, xlabel='Predicted Class', ylabel='True Class'>,\n",
       "                classes=['Non-Functional', 'Functional Needs Repair',\n",
       "                         'Functional'],\n",
       "                cmap=<matplotlib.colors.ListedColormap object at 0x7fee9e61b790>,\n",
       "                estimator=RandomForestClassifier(criterion='entropy',\n",
       "                                                 max_depth=30,\n",
       "                                                 random_state=42))"
      ]
     },
     "execution_count": 953,
     "metadata": {},
     "output_type": "execute_result"
    }
   ],
   "source": [
    "confusion_matrix(rf, X_smote, y_smote, X_test_clean, y_test, \n",
    "                 classes=['Non-Functional', 'Functional Needs Repair', 'Functional'], cmap='BuGn', size=(500,500))"
   ]
  },
  {
   "cell_type": "code",
   "execution_count": 951,
   "id": "5cd82540",
   "metadata": {
    "scrolled": false
   },
   "outputs": [
    {
     "data": {
      "image/png": "[encoded data removed]",
      "text/plain": [
       "<Figure size 600x400 with 2 Axes>"
      ]
     },
     "metadata": {
      "needs_background": "light"
     },
     "output_type": "display_data"
    }
   ],
   "source": [
    "classif = ClassificationReport(rf, classes=['Non-Functional', 'Functional Needs Repair', 'Functional'], \n",
    "                               cmap='Oranges', size=(600, 400))\n",
    "classif.fit(X_smote, y_smote)\n",
    "classif.score(X_test_clean, y_test)\n",
    "classif.show();"
   ]
  },
  {
   "cell_type": "code",
   "execution_count": 952,
   "id": "8f696fda",
   "metadata": {},
   "outputs": [
    {
     "data": {
      "image/png": "[encoded data removed]",
      "text/plain": [
       "<Figure size 720x432 with 1 Axes>"
      ]
     },
     "metadata": {
      "needs_background": "light"
     },
     "output_type": "display_data"
    }
   ],
   "source": [
    "plt.figure(figsize=(10,6))\n",
    "visualizer = ROCAUC(rf, classes=['Non-Functional', 'Functional Needs Repair', 'Functional'])\n",
    "visualizer.fit(X_smote, y_smote)\n",
    "visualizer.score(X_test_clean, y_test)\n",
    "plt.legend();"
   ]
  },
  {
   "cell_type": "markdown",
   "id": "a9c63ea4",
   "metadata": {},
   "source": [
    "# 8. Conclusion\n",
    "---\n",
    "The final model shows that we can with x% accuracy predict the condition of each water pump provided feature information. \n",
    "\n",
    "I chose the final model because of it's priority with classifying False Non-Functional, over False Functional. While this model is definitely not cost-effective, it will provide us with the most humanitarian solution. "
   ]
  },
  {
   "cell_type": "markdown",
   "id": "028f872e",
   "metadata": {},
   "source": [
    "# 9. Further Steps\n",
    "---\n",
    "**Cost**<br>\n",
    "Without any cost data we are unable to take into consideration the cost of our analysis when creating a prediction model. Acquiring cost data would allow us to show how much each decision would cost and would provide us with a more accurate cost-benefit analysis. It would be very influential in the decision to choose what type of model we want to prioritize. \n",
    "\n",
    "But with what we are given without cost data, we are going to prioritize human wellbeing. \n",
    "\n",
    "**Efficiency/Data Restrictions**<br>\n",
    "Due to the number of categorical features, after One Hot Encoding, the dataframe was extremely large. I believe that with better resources I would have been able to use more features and produce an even more efficient model.\n"
   ]
  }
 ],
 "metadata": {
  "kernelspec": {
   "display_name": "Python (learn-env)",
   "language": "python",
   "name": "learn-env"
  },
  "language_info": {
   "codemirror_mode": {
    "name": "ipython",
    "version": 3
   },
   "file_extension": ".py",
   "mimetype": "text/x-python",
   "name": "python",
   "nbconvert_exporter": "python",
   "pygments_lexer": "ipython3",
   "version": "3.8.5"
  }
 },
 "nbformat": 4,
 "nbformat_minor": 5
}
